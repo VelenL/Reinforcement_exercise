{
  "nbformat": 4,
  "nbformat_minor": 0,
  "metadata": {
    "colab": {
      "provenance": [],
      "collapsed_sections": [
        "7lK-p4xJZw9i"
      ]
    },
    "kernelspec": {
      "name": "python3",
      "display_name": "Python 3"
    },
    "language_info": {
      "name": "python"
    }
  },
  "cells": [
    {
      "cell_type": "markdown",
      "source": [
        "# Part 1: Classes and Methods"
      ],
      "metadata": {
        "id": "7lK-p4xJZw9i"
      }
    },
    {
      "cell_type": "markdown",
      "source": [
        "Exercise 1"
      ],
      "metadata": {
        "id": "N9MNyAcyXJDv"
      }
    },
    {
      "cell_type": "code",
      "execution_count": null,
      "metadata": {
        "id": "GyhEVisTUVSJ"
      },
      "outputs": [],
      "source": [
        "class Dog:\n",
        "  def __init__(self, name, age, breed):\n",
        "    self.name = name\n",
        "    self.age = age\n",
        "    self.breed = breed\n",
        "  def __repr__(self):\n",
        "    return f\"{self.name},{self.age},{self.breed}\""
      ]
    },
    {
      "cell_type": "code",
      "source": [
        "d1 = Dog('dingding', '1', 'Poodle')\n",
        "d2 = Dog('dici', '2', 'Labrador')"
      ],
      "metadata": {
        "id": "sJ0H57o6WUkd"
      },
      "execution_count": null,
      "outputs": []
    },
    {
      "cell_type": "code",
      "source": [
        "d1.name"
      ],
      "metadata": {
        "colab": {
          "base_uri": "https://localhost:8080/",
          "height": 35
        },
        "id": "iNmyQPIMWtoP",
        "outputId": "3e2d2a1c-4004-4b88-a483-636c9d98db01"
      },
      "execution_count": null,
      "outputs": [
        {
          "output_type": "execute_result",
          "data": {
            "text/plain": [
              "'dingding'"
            ],
            "application/vnd.google.colaboratory.intrinsic+json": {
              "type": "string"
            }
          },
          "metadata": {},
          "execution_count": 9
        }
      ]
    },
    {
      "cell_type": "code",
      "source": [
        "d2"
      ],
      "metadata": {
        "colab": {
          "base_uri": "https://localhost:8080/"
        },
        "id": "wkLVBjIZWvwY",
        "outputId": "e0daaca3-e2d6-442a-a0a3-e594fcfcfc25"
      },
      "execution_count": null,
      "outputs": [
        {
          "output_type": "execute_result",
          "data": {
            "text/plain": [
              "dici,2,Labrador"
            ]
          },
          "metadata": {},
          "execution_count": 10
        }
      ]
    },
    {
      "cell_type": "markdown",
      "source": [
        "Exercise 2"
      ],
      "metadata": {
        "id": "-HPmck-PaR4d"
      }
    },
    {
      "cell_type": "code",
      "source": [
        "class MyIntegers:\n",
        "  def __init__(self, a):\n",
        "    self.value = a\n",
        "  def print(self):\n",
        "    return self.value\n",
        "  def add(self, N):\n",
        "    return self.value + N\n",
        "  def subtract(self, N):\n",
        "    return self.value - N"
      ],
      "metadata": {
        "id": "Ec8Zkm0GaUCK"
      },
      "execution_count": null,
      "outputs": []
    },
    {
      "cell_type": "code",
      "source": [
        "MyIntegers(3).print()"
      ],
      "metadata": {
        "colab": {
          "base_uri": "https://localhost:8080/"
        },
        "id": "9w8GYe0JcnS4",
        "outputId": "21a1ff0d-fd3b-428e-af57-1d1f7009df5b"
      },
      "execution_count": null,
      "outputs": [
        {
          "output_type": "execute_result",
          "data": {
            "text/plain": [
              "3"
            ]
          },
          "metadata": {},
          "execution_count": 25
        }
      ]
    },
    {
      "cell_type": "code",
      "source": [
        "MyIntegers(3).add(2)"
      ],
      "metadata": {
        "colab": {
          "base_uri": "https://localhost:8080/"
        },
        "id": "7bV4GWr3dyiK",
        "outputId": "193307fb-67ac-4e8b-9e80-db7124c6cd16"
      },
      "execution_count": null,
      "outputs": [
        {
          "output_type": "execute_result",
          "data": {
            "text/plain": [
              "5"
            ]
          },
          "metadata": {},
          "execution_count": 26
        }
      ]
    },
    {
      "cell_type": "code",
      "source": [
        "MyIntegers(3).subtract(2)"
      ],
      "metadata": {
        "colab": {
          "base_uri": "https://localhost:8080/"
        },
        "id": "YU3lVRgbd2W9",
        "outputId": "9ae609ec-93d5-4f5c-f0a5-1f07732945c4"
      },
      "execution_count": null,
      "outputs": [
        {
          "output_type": "execute_result",
          "data": {
            "text/plain": [
              "1"
            ]
          },
          "metadata": {},
          "execution_count": 27
        }
      ]
    },
    {
      "cell_type": "code",
      "source": [
        "class MyIntegers:\n",
        "  def __init__(self, a):\n",
        "    self.value = a\n",
        "  def print(self):\n",
        "    return self.value\n",
        "  def add(self, N):\n",
        "    self.value = self.value + N\n",
        "  def subtract(self, N):\n",
        "    return self.value - N"
      ],
      "metadata": {
        "id": "P0HOKnQ-e15Q"
      },
      "execution_count": null,
      "outputs": []
    },
    {
      "cell_type": "code",
      "source": [
        "x = MyIntegers(2)"
      ],
      "metadata": {
        "id": "JJ-UkUboeTfI"
      },
      "execution_count": null,
      "outputs": []
    },
    {
      "cell_type": "code",
      "source": [
        "x.value"
      ],
      "metadata": {
        "colab": {
          "base_uri": "https://localhost:8080/"
        },
        "id": "D-eRC2QFea05",
        "outputId": "97c03b3c-f73f-45be-89bf-dcb27bc68569"
      },
      "execution_count": null,
      "outputs": [
        {
          "output_type": "execute_result",
          "data": {
            "text/plain": [
              "2"
            ]
          },
          "metadata": {},
          "execution_count": 40
        }
      ]
    },
    {
      "cell_type": "code",
      "source": [
        "x.add(3)"
      ],
      "metadata": {
        "id": "P6tKCw9Aeegm"
      },
      "execution_count": null,
      "outputs": []
    },
    {
      "cell_type": "code",
      "source": [
        "x.value"
      ],
      "metadata": {
        "colab": {
          "base_uri": "https://localhost:8080/"
        },
        "id": "A1AaeA8_ekK4",
        "outputId": "2479aa19-c300-4ef0-83db-952d4bb6de7a"
      },
      "execution_count": null,
      "outputs": [
        {
          "output_type": "execute_result",
          "data": {
            "text/plain": [
              "5"
            ]
          },
          "metadata": {},
          "execution_count": 42
        }
      ]
    },
    {
      "cell_type": "markdown",
      "source": [
        "# Part2: Reinforcement Learning Maze"
      ],
      "metadata": {
        "id": "5mb6sCEnfRsy"
      }
    },
    {
      "cell_type": "code",
      "source": [
        "import numpy as np\n",
        "MazeMatrix = np.zeros((8, 6))\n",
        "MazeMatrix[1, 1] = 1 \n",
        "MazeMatrix[2, 1:5] = 1 \n",
        "MazeMatrix[3, 1:3] = 1 \n",
        "MazeMatrix[3, 4] = 1 \n",
        "MazeMatrix[4, 1:2] = 1 \n",
        "MazeMatrix[4, 3:5] = 1 \n",
        "MazeMatrix[5, 1] = 1 \n",
        "MazeMatrix[5, 3:5] = 1 \n",
        "MazeMatrix[6, 3] = 1 \n",
        "print(MazeMatrix)"
      ],
      "metadata": {
        "colab": {
          "base_uri": "https://localhost:8080/"
        },
        "id": "EDLjsH5hkpCO",
        "outputId": "fdef6219-6916-4faa-f595-c14f0a6a0f29"
      },
      "execution_count": 1,
      "outputs": [
        {
          "output_type": "stream",
          "name": "stdout",
          "text": [
            "[[0. 0. 0. 0. 0. 0.]\n",
            " [0. 1. 0. 0. 0. 0.]\n",
            " [0. 1. 1. 1. 1. 0.]\n",
            " [0. 1. 1. 0. 1. 0.]\n",
            " [0. 1. 0. 1. 1. 0.]\n",
            " [0. 1. 0. 1. 1. 0.]\n",
            " [0. 0. 0. 1. 0. 0.]\n",
            " [0. 0. 0. 0. 0. 0.]]\n"
          ]
        }
      ]
    },
    {
      "cell_type": "code",
      "source": [
        "nrows, ncols = MazeMatrix.shape\n",
        "enumeration_matrix = np.arange(0, nrows*ncols).reshape(MazeMatrix.shape)\n",
        "print(enumeration_matrix)"
      ],
      "metadata": {
        "colab": {
          "base_uri": "https://localhost:8080/"
        },
        "id": "v5EbAsijmG2r",
        "outputId": "0c46c2b9-52d5-477a-c5bb-5cc984e3a0e7"
      },
      "execution_count": 2,
      "outputs": [
        {
          "output_type": "stream",
          "name": "stdout",
          "text": [
            "[[ 0  1  2  3  4  5]\n",
            " [ 6  7  8  9 10 11]\n",
            " [12 13 14 15 16 17]\n",
            " [18 19 20 21 22 23]\n",
            " [24 25 26 27 28 29]\n",
            " [30 31 32 33 34 35]\n",
            " [36 37 38 39 40 41]\n",
            " [42 43 44 45 46 47]]\n"
          ]
        }
      ]
    },
    {
      "cell_type": "code",
      "source": [
        "np.unravel_index(7, [nrows,ncols])"
      ],
      "metadata": {
        "colab": {
          "base_uri": "https://localhost:8080/"
        },
        "id": "Aus9TYZGmUSY",
        "outputId": "1bea9365-b9bb-4ee4-8fb4-13b7de36f035"
      },
      "execution_count": 3,
      "outputs": [
        {
          "output_type": "execute_result",
          "data": {
            "text/plain": [
              "(1, 1)"
            ]
          },
          "metadata": {},
          "execution_count": 3
        }
      ]
    },
    {
      "cell_type": "code",
      "source": [
        "np.multiply(MazeMatrix, enumeration_matrix)"
      ],
      "metadata": {
        "colab": {
          "base_uri": "https://localhost:8080/"
        },
        "id": "4pR5UHZzmhoC",
        "outputId": "d8ec112c-73d7-4cc4-e317-303623225913"
      },
      "execution_count": 4,
      "outputs": [
        {
          "output_type": "execute_result",
          "data": {
            "text/plain": [
              "array([[ 0.,  0.,  0.,  0.,  0.,  0.],\n",
              "       [ 0.,  7.,  0.,  0.,  0.,  0.],\n",
              "       [ 0., 13., 14., 15., 16.,  0.],\n",
              "       [ 0., 19., 20.,  0., 22.,  0.],\n",
              "       [ 0., 25.,  0., 27., 28.,  0.],\n",
              "       [ 0., 31.,  0., 33., 34.,  0.],\n",
              "       [ 0.,  0.,  0., 39.,  0.,  0.],\n",
              "       [ 0.,  0.,  0.,  0.,  0.,  0.]])"
            ]
          },
          "metadata": {},
          "execution_count": 4
        }
      ]
    },
    {
      "cell_type": "code",
      "source": [
        "reachable_ix = np.ravel(np.multiply(MazeMatrix, enumeration_matrix)) \n",
        "reachable_ix = list(reachable_ix[reachable_ix.nonzero()]) \n",
        "print(reachable_ix)"
      ],
      "metadata": {
        "colab": {
          "base_uri": "https://localhost:8080/"
        },
        "id": "07dQLqiUm7ao",
        "outputId": "776938d5-1b07-4dc7-a2a5-91715bb54ca2"
      },
      "execution_count": 5,
      "outputs": [
        {
          "output_type": "stream",
          "name": "stdout",
          "text": [
            "[7.0, 13.0, 14.0, 15.0, 16.0, 19.0, 20.0, 22.0, 25.0, 27.0, 28.0, 31.0, 33.0, 34.0, 39.0]\n"
          ]
        }
      ]
    },
    {
      "cell_type": "code",
      "source": [
        "reachable_ix.index(enumeration_matrix[(1,1)])"
      ],
      "metadata": {
        "colab": {
          "base_uri": "https://localhost:8080/"
        },
        "id": "dlndtG1fnVHm",
        "outputId": "af6eef6b-3f19-4e6e-8ad8-82073397d9fb"
      },
      "execution_count": 6,
      "outputs": [
        {
          "output_type": "execute_result",
          "data": {
            "text/plain": [
              "0"
            ]
          },
          "metadata": {},
          "execution_count": 6
        }
      ]
    },
    {
      "cell_type": "code",
      "source": [
        "states_dict = {}\n",
        "for i in range(len(reachable_ix)):\n",
        "  states_dict[i] = int(reachable_ix[i])\n",
        "print(states_dict)"
      ],
      "metadata": {
        "colab": {
          "base_uri": "https://localhost:8080/"
        },
        "id": "ZG69fb31nN_O",
        "outputId": "167890b6-596b-4494-ede6-f2d510102e0a"
      },
      "execution_count": 7,
      "outputs": [
        {
          "output_type": "stream",
          "name": "stdout",
          "text": [
            "{0: 7, 1: 13, 2: 14, 3: 15, 4: 16, 5: 19, 6: 20, 7: 22, 8: 25, 9: 27, 10: 28, 11: 31, 12: 33, 13: 34, 14: 39}\n"
          ]
        }
      ]
    },
    {
      "cell_type": "code",
      "source": [
        "action_str = ['up','down','left','right']\n",
        "print(action_str)"
      ],
      "metadata": {
        "colab": {
          "base_uri": "https://localhost:8080/"
        },
        "id": "uJmaWihhocSY",
        "outputId": "70d1f828-1ed5-44e7-f14f-e705e5d5a1ff"
      },
      "execution_count": 8,
      "outputs": [
        {
          "output_type": "stream",
          "name": "stdout",
          "text": [
            "['up', 'down', 'left', 'right']\n"
          ]
        }
      ]
    },
    {
      "cell_type": "code",
      "source": [
        "action_coords = [[-1,0], [1,0], [0,-1], [0,1]] \n",
        "print(action_coords)"
      ],
      "metadata": {
        "colab": {
          "base_uri": "https://localhost:8080/"
        },
        "id": "Rh1xrh_oovBZ",
        "outputId": "d5319898-e385-45c6-af1f-04437084daa5"
      },
      "execution_count": 9,
      "outputs": [
        {
          "output_type": "stream",
          "name": "stdout",
          "text": [
            "[[-1, 0], [1, 0], [0, -1], [0, 1]]\n"
          ]
        }
      ]
    },
    {
      "cell_type": "code",
      "source": [
        "states_dict[0]"
      ],
      "metadata": {
        "colab": {
          "base_uri": "https://localhost:8080/"
        },
        "id": "_5x955Dcow7i",
        "outputId": "203fa9ff-ff8b-47f9-a9da-e339844dfec5"
      },
      "execution_count": 10,
      "outputs": [
        {
          "output_type": "execute_result",
          "data": {
            "text/plain": [
              "7"
            ]
          },
          "metadata": {},
          "execution_count": 10
        }
      ]
    },
    {
      "cell_type": "code",
      "source": [
        "coords = np.array(np.unravel_index(states_dict[0],[nrows,ncols])) \n",
        "print(coords)"
      ],
      "metadata": {
        "colab": {
          "base_uri": "https://localhost:8080/"
        },
        "id": "6d7PkPduo40g",
        "outputId": "e3535357-1503-43a1-84eb-916e78870f69"
      },
      "execution_count": 11,
      "outputs": [
        {
          "output_type": "stream",
          "name": "stdout",
          "text": [
            "[1 1]\n"
          ]
        }
      ]
    },
    {
      "cell_type": "code",
      "source": [
        "action_coords[0] + (coords)"
      ],
      "metadata": {
        "colab": {
          "base_uri": "https://localhost:8080/"
        },
        "id": "-ioW3T4DpHh9",
        "outputId": "e59ff678-c1b1-48f5-de04-6ebe26197447"
      },
      "execution_count": 12,
      "outputs": [
        {
          "output_type": "execute_result",
          "data": {
            "text/plain": [
              "array([0, 1])"
            ]
          },
          "metadata": {},
          "execution_count": 12
        }
      ]
    },
    {
      "cell_type": "code",
      "source": [
        "l = [tuple(action_coords[i]+coords) for i in range(4)] \n",
        "print(l)"
      ],
      "metadata": {
        "colab": {
          "base_uri": "https://localhost:8080/"
        },
        "id": "0xD9pGruqqkf",
        "outputId": "f1e7110e-dd56-40bc-a1a7-0871f0af56cb"
      },
      "execution_count": 13,
      "outputs": [
        {
          "output_type": "stream",
          "name": "stdout",
          "text": [
            "[(0, 1), (2, 1), (1, 0), (1, 2)]\n"
          ]
        }
      ]
    },
    {
      "cell_type": "code",
      "source": [
        "def get_allowed_actions(state):\n",
        "  state_num = states_dict[state] # get the enumeration for the matrix\n",
        "  coords = np.array(np.unravel_index(state_num,[nrows,ncols])) # get [row, col] for state\n",
        "  l = [tuple(action_coords[i]+coords) for i in range(4)] # list of all (row, col) combinations we can get to in one actions = []\n",
        "  actions = []\n",
        "  states = []\n",
        "  for i, t in enumerate(l):\n",
        "    if MazeMatrix[t]:\n",
        "      actions.append(i) \n",
        "      states.append(reachable_ix.index(enumeration_matrix[t]))\n",
        "  return actions, states\n",
        "\n",
        "# testing if this work\n",
        "actions, states = get_allowed_actions(5)\n",
        "\n",
        "print(actions)\n",
        "print(states)"
      ],
      "metadata": {
        "colab": {
          "base_uri": "https://localhost:8080/"
        },
        "id": "pnBQi6aSphI0",
        "outputId": "2dba5f95-7e52-4543-815e-951743faee2e"
      },
      "execution_count": 14,
      "outputs": [
        {
          "output_type": "stream",
          "name": "stdout",
          "text": [
            "[0, 1, 3]\n",
            "[1, 8, 6]\n"
          ]
        }
      ]
    },
    {
      "cell_type": "code",
      "source": [
        "print(states)"
      ],
      "metadata": {
        "colab": {
          "base_uri": "https://localhost:8080/"
        },
        "id": "EDJzZU3VsaAD",
        "outputId": "412db762-02a9-437d-f56e-b63101536a67"
      },
      "execution_count": 15,
      "outputs": [
        {
          "output_type": "stream",
          "name": "stdout",
          "text": [
            "[1, 8, 6]\n"
          ]
        }
      ]
    },
    {
      "cell_type": "code",
      "source": [
        "[action_str[act] for act in actions]"
      ],
      "metadata": {
        "colab": {
          "base_uri": "https://localhost:8080/"
        },
        "id": "dhuPXAr7saXv",
        "outputId": "44237a15-df43-445e-f983-e59bba22b41c"
      },
      "execution_count": 16,
      "outputs": [
        {
          "output_type": "execute_result",
          "data": {
            "text/plain": [
              "['up', 'down', 'right']"
            ]
          },
          "metadata": {},
          "execution_count": 16
        }
      ]
    },
    {
      "cell_type": "code",
      "source": [
        "action_str = ['up','down','left','right'] # global variable for convenience\n",
        "\n",
        "class Enviro(object):\n",
        "  _action_coords = [[-1,0], [1,0], [0,-1], [0,1]] # class variable, available to all\n",
        "  def __init__(self, MazeMatrix, start_coordinate, finish_coordinate):\n",
        "    self.maze = MazeMatrix\n",
        "    # create an internal variable _enumeration: a matrix with numeric position\n",
        "    self._enumeration = np.arange(0, MazeMatrix.shape[0]*MazeMatrix.shape[1]).reshape(self.maze.shape) \n",
        "    self._reachable_ix() # creates a list of all accessible states given as numbers \n",
        "    self._states_dict()\n",
        "    # create a state and finish property\n",
        "    self.state = self.reachable_ix.index(self._enumeration[start_coordinate]) # start state \n",
        "    self.finish = self.reachable_ix.index(self._enumeration[finish_coordinate]) # goal state \n",
        "    self.nstates = len(self.states_dict)\n",
        "    self.nactions = len(self._action_coords)\n",
        "\n",
        "  def _reachable_ix(self):\n",
        "    reach_array = np.ravel(np.multiply(self.maze, self._enumeration)) \n",
        "    # save the list of all accessible states as numbers as reachable_ix \n",
        "    self.reachable_ix = list(reach_array[reach_array.nonzero()])\n",
        "\n",
        "  def _states_dict(self):\n",
        "    states_dict = {}\n",
        "    for i in range(len(self.reachable_ix)):\n",
        "      states_dict[i] = int(self.reachable_ix[i]) # making sure the indices are integers not floats \n",
        "    self.states_dict = states_dict\n",
        "\n",
        "  def get_allowed_actions(self, state):\n",
        "    state_num = self.states_dict[state] # get the enumeration for the matrix\n",
        "    nrows, ncols = self.maze.shape\n",
        "    coords = np.array(np.unravel_index(state_num,[nrows,ncols])) # get [row, col] for state # l is a list of all (row, col) combinations we can get to in one move\n",
        "    l = [tuple(Enviro._action_coords[i]+coords) for i in range(4)]\n",
        "    actions, states = [], []\n",
        "    for i, t in enumerate(l):\n",
        "      if MazeMatrix[t]:\n",
        "        actions.append(i) \n",
        "        states.append(self.reachable_ix.index(self._enumeration[t]))\n",
        "    return actions, states"
      ],
      "metadata": {
        "id": "0X3dKnP1sc5e"
      },
      "execution_count": 17,
      "outputs": []
    },
    {
      "cell_type": "code",
      "source": [
        "env = Enviro(MazeMatrix, (1,1), (6,3))"
      ],
      "metadata": {
        "id": "NykQ4LXm0TpB"
      },
      "execution_count": 18,
      "outputs": []
    },
    {
      "cell_type": "code",
      "source": [
        "env.maze"
      ],
      "metadata": {
        "colab": {
          "base_uri": "https://localhost:8080/"
        },
        "id": "xV5v_q2F0mIJ",
        "outputId": "f1c2f0b5-2aca-4d62-8b83-bd0cac8cc1ff"
      },
      "execution_count": 19,
      "outputs": [
        {
          "output_type": "execute_result",
          "data": {
            "text/plain": [
              "array([[0., 0., 0., 0., 0., 0.],\n",
              "       [0., 1., 0., 0., 0., 0.],\n",
              "       [0., 1., 1., 1., 1., 0.],\n",
              "       [0., 1., 1., 0., 1., 0.],\n",
              "       [0., 1., 0., 1., 1., 0.],\n",
              "       [0., 1., 0., 1., 1., 0.],\n",
              "       [0., 0., 0., 1., 0., 0.],\n",
              "       [0., 0., 0., 0., 0., 0.]])"
            ]
          },
          "metadata": {},
          "execution_count": 19
        }
      ]
    },
    {
      "cell_type": "code",
      "source": [
        "env.state, env.finish"
      ],
      "metadata": {
        "colab": {
          "base_uri": "https://localhost:8080/"
        },
        "id": "xxHbyyDV0qNp",
        "outputId": "56360dc6-ec3b-434b-b026-7106ef41ac93"
      },
      "execution_count": 20,
      "outputs": [
        {
          "output_type": "execute_result",
          "data": {
            "text/plain": [
              "(0, 14)"
            ]
          },
          "metadata": {},
          "execution_count": 20
        }
      ]
    },
    {
      "cell_type": "code",
      "source": [
        "env.reachable_ix"
      ],
      "metadata": {
        "colab": {
          "base_uri": "https://localhost:8080/"
        },
        "id": "SOdKCYbl1F_C",
        "outputId": "beae9793-6bf2-491a-f3a5-e30f90a1bcb6"
      },
      "execution_count": 21,
      "outputs": [
        {
          "output_type": "execute_result",
          "data": {
            "text/plain": [
              "[7.0,\n",
              " 13.0,\n",
              " 14.0,\n",
              " 15.0,\n",
              " 16.0,\n",
              " 19.0,\n",
              " 20.0,\n",
              " 22.0,\n",
              " 25.0,\n",
              " 27.0,\n",
              " 28.0,\n",
              " 31.0,\n",
              " 33.0,\n",
              " 34.0,\n",
              " 39.0]"
            ]
          },
          "metadata": {},
          "execution_count": 21
        }
      ]
    },
    {
      "cell_type": "code",
      "source": [
        "env.states_dict"
      ],
      "metadata": {
        "id": "CnnsGmAe1H1B",
        "colab": {
          "base_uri": "https://localhost:8080/"
        },
        "outputId": "a58acdf9-a910-4468-94d5-c6368dbaf86f"
      },
      "execution_count": 22,
      "outputs": [
        {
          "output_type": "execute_result",
          "data": {
            "text/plain": [
              "{0: 7,\n",
              " 1: 13,\n",
              " 2: 14,\n",
              " 3: 15,\n",
              " 4: 16,\n",
              " 5: 19,\n",
              " 6: 20,\n",
              " 7: 22,\n",
              " 8: 25,\n",
              " 9: 27,\n",
              " 10: 28,\n",
              " 11: 31,\n",
              " 12: 33,\n",
              " 13: 34,\n",
              " 14: 39}"
            ]
          },
          "metadata": {},
          "execution_count": 22
        }
      ]
    },
    {
      "cell_type": "code",
      "source": [
        "for i in list(env.states_dict.keys()): \n",
        "  acts, sts = env.get_allowed_actions(i) \n",
        "  print(\"state :\", i)\n",
        "  for act, st in zip(acts, sts):\n",
        "        print(\"allowed action:\", act, \"=\",action_str[act], \"lead to new state\", st)"
      ],
      "metadata": {
        "id": "dTtv2vFe1JqN",
        "colab": {
          "base_uri": "https://localhost:8080/"
        },
        "outputId": "1a086146-6acb-4e4c-8039-76467e6dead4"
      },
      "execution_count": 23,
      "outputs": [
        {
          "output_type": "stream",
          "name": "stdout",
          "text": [
            "state : 0\n",
            "allowed action: 1 = down lead to new state 1\n",
            "state : 1\n",
            "allowed action: 0 = up lead to new state 0\n",
            "allowed action: 1 = down lead to new state 5\n",
            "allowed action: 3 = right lead to new state 2\n",
            "state : 2\n",
            "allowed action: 1 = down lead to new state 6\n",
            "allowed action: 2 = left lead to new state 1\n",
            "allowed action: 3 = right lead to new state 3\n",
            "state : 3\n",
            "allowed action: 2 = left lead to new state 2\n",
            "allowed action: 3 = right lead to new state 4\n",
            "state : 4\n",
            "allowed action: 1 = down lead to new state 7\n",
            "allowed action: 2 = left lead to new state 3\n",
            "state : 5\n",
            "allowed action: 0 = up lead to new state 1\n",
            "allowed action: 1 = down lead to new state 8\n",
            "allowed action: 3 = right lead to new state 6\n",
            "state : 6\n",
            "allowed action: 0 = up lead to new state 2\n",
            "allowed action: 2 = left lead to new state 5\n",
            "state : 7\n",
            "allowed action: 0 = up lead to new state 4\n",
            "allowed action: 1 = down lead to new state 10\n",
            "state : 8\n",
            "allowed action: 0 = up lead to new state 5\n",
            "allowed action: 1 = down lead to new state 11\n",
            "state : 9\n",
            "allowed action: 1 = down lead to new state 12\n",
            "allowed action: 3 = right lead to new state 10\n",
            "state : 10\n",
            "allowed action: 0 = up lead to new state 7\n",
            "allowed action: 1 = down lead to new state 13\n",
            "allowed action: 2 = left lead to new state 9\n",
            "state : 11\n",
            "allowed action: 0 = up lead to new state 8\n",
            "state : 12\n",
            "allowed action: 0 = up lead to new state 9\n",
            "allowed action: 1 = down lead to new state 14\n",
            "allowed action: 3 = right lead to new state 13\n",
            "state : 13\n",
            "allowed action: 0 = up lead to new state 10\n",
            "allowed action: 2 = left lead to new state 12\n",
            "state : 14\n",
            "allowed action: 0 = up lead to new state 12\n"
          ]
        }
      ]
    },
    {
      "cell_type": "code",
      "source": [
        "action_str = ['up','down','left','right'] \n",
        "# global variable for convenience\n",
        "\n",
        "class Enviro(object):\n",
        "\n",
        "  _action_coords = [[-1,0], [1,0], [0,-1], [0,1]] # class variable, available to all\n",
        "\n",
        "  def __init__(self, MazeMatrix, start_coordinate, finish_coordinate):\n",
        "    self.maze = MazeMatrix\n",
        "    # create an internal variable _enumeration: a matrix with numeric position\n",
        "    self._enumeration = np.arange(0, MazeMatrix.shape[0]*MazeMatrix.shape[1]).reshape(self.maze.shape) \n",
        "    self._reachable_ix() # creates a list of all accessible states given as numbers \n",
        "    self._states_dict()\n",
        "    # create a state and finish property\n",
        "    self.state = self.reachable_ix.index(self._enumeration[start_coordinate]) # start state \n",
        "    self.finish = self.reachable_ix.index(self._enumeration[finish_coordinate]) # goal state \n",
        "    self.nstates = len(self.states_dict)\n",
        "    self.nactions = len(self._action_coords)\n",
        "  def _reachable_ix(self):\n",
        "    reach_array = np.ravel(np.multiply(self.maze, self._enumeration)) \n",
        "    # save the list of all accessible states as numbers as reachable_ix \n",
        "    self.reachable_ix = list(reach_array[reach_array.nonzero()])\n",
        "\n",
        "  def _states_dict(self):\n",
        "    states_dict = {}\n",
        "    for i in range(len(self.reachable_ix)):\n",
        "      states_dict[i] = int(self.reachable_ix[i]) # making sure the indices are integers not floats \n",
        "    self.states_dict = states_dict\n",
        "\n",
        "  def get_allowed_actions(self, state):\n",
        "    state_num = self.states_dict[state] # get the enumeration for the matrix\n",
        "    nrows, ncols = self.maze.shape\n",
        "    coords = np.array(np.unravel_index(state_num,[nrows,ncols])) # get [row, col] for state \n",
        "    # l is a list of all (row, col) combinations we can get to in one move\n",
        "    l = [tuple(Enviro._action_coords[i]+coords) for i in range(4)]\n",
        "    actions, states = [], []\n",
        "    for i, t in enumerate(l):\n",
        "      if MazeMatrix[t]:\n",
        "          actions.append(i) \n",
        "          states.append(self.reachable_ix.index(self._enumeration[t]))\n",
        "    return actions, states\n",
        "\n",
        "  def step(self, state):\n",
        "    # read the new state that the robot will take in the maze and give reward or stop game \n",
        "    # then update the environemnt with the new state\n",
        "    new_state = state # store the new state in new_state\n",
        "    if (new_state == self.finish): # if completed the maze\n",
        "        reward = 10\n",
        "        done = True \n",
        "    else: # otherwise\n",
        "        reward = -1\n",
        "        done = False \n",
        "    self.state = new_state \n",
        "    return reward, done"
      ],
      "metadata": {
        "id": "PdEkSp3l1Y_N"
      },
      "execution_count": 24,
      "outputs": []
    },
    {
      "cell_type": "code",
      "source": [
        "env = Enviro(MazeMatrix, (1,1), (6,3))\n",
        "epochs = 0\n",
        "history = [] #\n",
        "done = False # so far we are not done"
      ],
      "metadata": {
        "id": "LLji4N8NfcYd"
      },
      "execution_count": 26,
      "outputs": []
    },
    {
      "cell_type": "code",
      "source": [
        "env.state"
      ],
      "metadata": {
        "colab": {
          "base_uri": "https://localhost:8080/"
        },
        "id": "Ac_3zuHa39PW",
        "outputId": "342f31fb-2394-4fb5-f75e-241ef79e75fe"
      },
      "execution_count": 28,
      "outputs": [
        {
          "output_type": "execute_result",
          "data": {
            "text/plain": [
              "0"
            ]
          },
          "metadata": {},
          "execution_count": 28
        }
      ]
    },
    {
      "cell_type": "code",
      "source": [
        "import random\n",
        "\n",
        "env = Enviro(MazeMatrix, (1,1), (6,3)) # create an instance of the class epochs = 0\n",
        "history = [] #\n",
        "done = False # so far we are not done\n",
        "\n",
        "while not done:\n",
        "  old_state = env.state # Read current state from the Envo instance\n",
        "  # uste the get_allowed_actions function from Enviro class to get all allowed action-state pairs \n",
        "  # get all allowed action-state paires from the Environment in the current state\n",
        "  acts, states = env.get_allowed_actions(old_state)\n",
        "  ix = random.randrange(len(acts)) # choose a random index from acts\n",
        "  action = acts[ix] # the randomly choosen action\n",
        "  state = states[ix] # and it corresponding state\n",
        "  reward, done = env.step(state) # get reward, and info if we are done or not,\n",
        "                                      # and update the robot's position (state) in the environment\n",
        "  history.append({\n",
        "        'epoch' : epochs,\n",
        "        'state' : old_state,\n",
        "        'action_name' : action_str[action],\n",
        "        'new_state' : state,\n",
        "        'reward' : reward\n",
        "        })\n",
        "  epochs += 1"
      ],
      "metadata": {
        "id": "yUgL_iaK4AMZ"
      },
      "execution_count": 29,
      "outputs": []
    },
    {
      "cell_type": "code",
      "source": [
        "epochs"
      ],
      "metadata": {
        "colab": {
          "base_uri": "https://localhost:8080/"
        },
        "id": "s-oSOHOF4bSf",
        "outputId": "d05bcbf0-c231-4e52-9192-065259e26e87"
      },
      "execution_count": 30,
      "outputs": [
        {
          "output_type": "execute_result",
          "data": {
            "text/plain": [
              "63"
            ]
          },
          "metadata": {},
          "execution_count": 30
        }
      ]
    },
    {
      "cell_type": "code",
      "source": [
        "history[0]"
      ],
      "metadata": {
        "colab": {
          "base_uri": "https://localhost:8080/"
        },
        "id": "ZhTDyMij4hiQ",
        "outputId": "a2f974db-7c8b-42c2-a295-8a5f4180eee5"
      },
      "execution_count": 32,
      "outputs": [
        {
          "output_type": "execute_result",
          "data": {
            "text/plain": [
              "{'epoch': 0, 'state': 0, 'action_name': 'down', 'new_state': 1, 'reward': -1}"
            ]
          },
          "metadata": {},
          "execution_count": 32
        }
      ]
    },
    {
      "cell_type": "code",
      "source": [
        "history[-1]"
      ],
      "metadata": {
        "colab": {
          "base_uri": "https://localhost:8080/"
        },
        "id": "MR5afIZG4mr7",
        "outputId": "721c13ce-b7b1-4a44-afae-e7990f914316"
      },
      "execution_count": 33,
      "outputs": [
        {
          "output_type": "execute_result",
          "data": {
            "text/plain": [
              "{'epoch': 62,\n",
              " 'state': 12,\n",
              " 'action_name': 'down',\n",
              " 'new_state': 14,\n",
              " 'reward': 10}"
            ]
          },
          "metadata": {},
          "execution_count": 33
        }
      ]
    },
    {
      "cell_type": "code",
      "source": [
        "class Agent(object): \n",
        "  def __init__(self): \n",
        "    self.epochs = 0\n",
        "    self.history = [] \n",
        "    self.total_rewards = 0\n",
        "\n",
        "  def choose_action_state_pair(self, actions, states): \n",
        "    ix = random.randrange(len(actions))\n",
        "    action, state = actions[ix], states[ix]\n",
        "    return action, state\n",
        "\n",
        "  def update_history(self, old_state, act, new_state, reward): \n",
        "    self.total_rewards += reward\n",
        "    new_epoch = ({\n",
        "                'epoch' : self.epochs,\n",
        "                'state' : old_state,\n",
        "                'action' : act,\n",
        "                'new_state' : state,\n",
        "                'reward' : reward,\n",
        "                'sum_rewards' :self.total_rewards\n",
        "                })\n",
        "    self.epochs += 1 \n",
        "    self.history.append(new_epoch)"
      ],
      "metadata": {
        "id": "HWgsNACR48mi"
      },
      "execution_count": 34,
      "outputs": []
    },
    {
      "cell_type": "code",
      "source": [
        "env = Enviro(MazeMatrix, (1,1), (6,3)) # create a new instance of the class \n",
        "robot = Agent() # create a new instance of the robot"
      ],
      "metadata": {
        "id": "HSPo-bdI5PA5"
      },
      "execution_count": 35,
      "outputs": []
    },
    {
      "cell_type": "code",
      "source": [
        "old_state = env.state \n",
        "old_state"
      ],
      "metadata": {
        "colab": {
          "base_uri": "https://localhost:8080/"
        },
        "id": "llXXJd0y5Wg2",
        "outputId": "4bdbce5b-6632-4ebc-b223-834b4cdb8cce"
      },
      "execution_count": 36,
      "outputs": [
        {
          "output_type": "execute_result",
          "data": {
            "text/plain": [
              "0"
            ]
          },
          "metadata": {},
          "execution_count": 36
        }
      ]
    },
    {
      "cell_type": "code",
      "source": [
        "acts, sts = env.get_allowed_actions(old_state) \n",
        "acts, sts"
      ],
      "metadata": {
        "colab": {
          "base_uri": "https://localhost:8080/"
        },
        "id": "BpvQSPyz5ezT",
        "outputId": "95cfe436-05ce-4cf5-be77-93a070b15038"
      },
      "execution_count": 37,
      "outputs": [
        {
          "output_type": "execute_result",
          "data": {
            "text/plain": [
              "([1], [1])"
            ]
          },
          "metadata": {},
          "execution_count": 37
        }
      ]
    },
    {
      "cell_type": "code",
      "source": [
        "act, new_state = robot.choose_action_state_pair(acts, sts) \n",
        "act, new_state"
      ],
      "metadata": {
        "colab": {
          "base_uri": "https://localhost:8080/"
        },
        "id": "LX7LxKa95nPJ",
        "outputId": "5032e115-10fe-460c-e2c9-4699f38aa5eb"
      },
      "execution_count": 38,
      "outputs": [
        {
          "output_type": "execute_result",
          "data": {
            "text/plain": [
              "(1, 1)"
            ]
          },
          "metadata": {},
          "execution_count": 38
        }
      ]
    },
    {
      "cell_type": "code",
      "source": [
        "env = Enviro(MazeMatrix, (1,1), (6,3)) # create a new instance of the class \n",
        "robot = Agent() # create a new instance of the robot\n",
        "done = False \n",
        "while not done:\n",
        "  old_state = env.state # get the state from the Envo instance of the class\n",
        "  acts, sts = env.get_allowed_actions(old_state)\n",
        "  act, new_state = robot.choose_action_state_pair(acts, sts)\n",
        "  reward, done = env.step(new_state) # get reward, and update the robots position in the maze env. \n",
        "  robot.update_history(old_state,act,state,reward)"
      ],
      "metadata": {
        "id": "odUmUsuj5u2p"
      },
      "execution_count": 39,
      "outputs": []
    },
    {
      "cell_type": "code",
      "source": [
        "robot.history[:2]"
      ],
      "metadata": {
        "colab": {
          "base_uri": "https://localhost:8080/"
        },
        "id": "DhAJRMxz6D7E",
        "outputId": "a69f92f7-fb18-4368-f36e-afe763875e78"
      },
      "execution_count": 40,
      "outputs": [
        {
          "output_type": "execute_result",
          "data": {
            "text/plain": [
              "[{'epoch': 0,\n",
              "  'state': 0,\n",
              "  'action': 1,\n",
              "  'new_state': 14,\n",
              "  'reward': -1,\n",
              "  'sum_rewards': -1},\n",
              " {'epoch': 1,\n",
              "  'state': 1,\n",
              "  'action': 1,\n",
              "  'new_state': 14,\n",
              "  'reward': -1,\n",
              "  'sum_rewards': -2}]"
            ]
          },
          "metadata": {},
          "execution_count": 40
        }
      ]
    },
    {
      "cell_type": "code",
      "source": [
        "robot.history[-2:]"
      ],
      "metadata": {
        "colab": {
          "base_uri": "https://localhost:8080/"
        },
        "id": "5D2DRPFK6IiY",
        "outputId": "8f162d7e-6aa2-41ef-f36e-856827ec8b58"
      },
      "execution_count": 42,
      "outputs": [
        {
          "output_type": "execute_result",
          "data": {
            "text/plain": [
              "[{'epoch': 37,\n",
              "  'state': 13,\n",
              "  'action': 2,\n",
              "  'new_state': 14,\n",
              "  'reward': -1,\n",
              "  'sum_rewards': -38},\n",
              " {'epoch': 38,\n",
              "  'state': 12,\n",
              "  'action': 1,\n",
              "  'new_state': 14,\n",
              "  'reward': 10,\n",
              "  'sum_rewards': -28}]"
            ]
          },
          "metadata": {},
          "execution_count": 42
        }
      ]
    },
    {
      "cell_type": "code",
      "source": [
        "env = Enviro(MazeMatrix, (1,1), (6,3))\n",
        "robot = Agent() # create a new instance of the robot \n",
        "maze_start = env.state # normal start\n",
        "\n",
        "n_episodes = 100\n",
        "\n",
        "total_epochs_per_episode = [0] * n_episodes\n",
        "total_reward_per_episode = [0] * n_episodes\n",
        "\n",
        "for i in range(n_episodes): \n",
        "  epochs = 0\n",
        "  done = False\n",
        "  env.state = maze_start # reset env so robot is at normal start state \n",
        "  robot.total_rewards = 0 # reset the rewards for the robot\n",
        "  while not done:\n",
        "    old_state = env.state # get the state from the Envo instance of the class \n",
        "    acts, sts = env.get_allowed_actions(old_state)\n",
        "    act, new_state = robot.choose_action_state_pair(acts, sts)\n",
        "    _, done = env.step(new_state)\n",
        "    robot.update_history(old_state,act,state,reward)\n",
        "    epochs += 1\n",
        "\n",
        "    total_reward_per_episode[i] = robot.total_rewards \n",
        "    total_epochs_per_episode[i] = epochs"
      ],
      "metadata": {
        "id": "XOkIjcpR6QHA"
      },
      "execution_count": 43,
      "outputs": []
    },
    {
      "cell_type": "code",
      "source": [
        "from matplotlib import pyplot as plt\n",
        "plt.plot(total_epochs_per_episode)"
      ],
      "metadata": {
        "colab": {
          "base_uri": "https://localhost:8080/",
          "height": 283
        },
        "id": "mGfF3V3862ed",
        "outputId": "14ceab30-33c0-4e70-8793-adec17554fb9"
      },
      "execution_count": 44,
      "outputs": [
        {
          "output_type": "execute_result",
          "data": {
            "text/plain": [
              "[<matplotlib.lines.Line2D at 0x7f4f794762e0>]"
            ]
          },
          "metadata": {},
          "execution_count": 44
        },
        {
          "output_type": "display_data",
          "data": {
            "text/plain": [
              "<Figure size 432x288 with 1 Axes>"
            ],
            "image/png": "[encoded data removed]"
          },
          "metadata": {
            "needs_background": "light"
          }
        }
      ]
    },
    {
      "cell_type": "code",
      "source": [
        "plt.plot(total_reward_per_episode)"
      ],
      "metadata": {
        "colab": {
          "base_uri": "https://localhost:8080/",
          "height": 283
        },
        "id": "zPZkt1bh6_8t",
        "outputId": "30b3380b-94ee-4004-a03d-40dc9408de42"
      },
      "execution_count": 45,
      "outputs": [
        {
          "output_type": "execute_result",
          "data": {
            "text/plain": [
              "[<matplotlib.lines.Line2D at 0x7f4f68c23d00>]"
            ]
          },
          "metadata": {},
          "execution_count": 45
        },
        {
          "output_type": "display_data",
          "data": {
            "text/plain": [
              "<Figure size 432x288 with 1 Axes>"
            ],
            "image/png": "[encoded data removed]"
          },
          "metadata": {
            "needs_background": "light"
          }
        }
      ]
    },
    {
      "cell_type": "code",
      "source": [
        "sum(total_epochs_per_episode)/len(total_epochs_per_episode)"
      ],
      "metadata": {
        "colab": {
          "base_uri": "https://localhost:8080/"
        },
        "id": "QXPz0xRk7SoB",
        "outputId": "dc2bcc9b-bed2-40ff-e0d8-88ad7cbf8a21"
      },
      "execution_count": 46,
      "outputs": [
        {
          "output_type": "execute_result",
          "data": {
            "text/plain": [
              "120.9"
            ]
          },
          "metadata": {},
          "execution_count": 46
        }
      ]
    },
    {
      "cell_type": "code",
      "source": [
        "# -np.ones([env.nstates,env.nactions]) + \\\n",
        "initial_q_table = 0.1*np.random.rand(env.nstates,env.nactions) \n",
        "initial_q_table[env.finish,] = 0  # no further rewards expected"
      ],
      "metadata": {
        "id": "snBxIo_A-dmS"
      },
      "execution_count": 48,
      "outputs": []
    },
    {
      "cell_type": "code",
      "source": [
        "initial_q_table"
      ],
      "metadata": {
        "colab": {
          "base_uri": "https://localhost:8080/"
        },
        "id": "hz8_ok2x-kXW",
        "outputId": "b250bd76-183e-4a45-a44d-78778a1498e1"
      },
      "execution_count": 49,
      "outputs": [
        {
          "output_type": "execute_result",
          "data": {
            "text/plain": [
              "array([[0.08174227, 0.04948859, 0.02095046, 0.03991606],\n",
              "       [0.04180966, 0.06007078, 0.01802055, 0.09795899],\n",
              "       [0.08344288, 0.08472744, 0.03647369, 0.02443795],\n",
              "       [0.09713851, 0.02330797, 0.03089788, 0.04889979],\n",
              "       [0.09589633, 0.01234417, 0.03744533, 0.02552837],\n",
              "       [0.09795036, 0.04534532, 0.09315763, 0.08442295],\n",
              "       [0.02407037, 0.06164745, 0.01558472, 0.05591225],\n",
              "       [0.09056421, 0.06994575, 0.08723512, 0.06739696],\n",
              "       [0.03889401, 0.09707372, 0.00716343, 0.09466872],\n",
              "       [0.04335458, 0.09434083, 0.07459544, 0.07290902],\n",
              "       [0.08583474, 0.09763367, 0.00297346, 0.03190232],\n",
              "       [0.00405119, 0.06226027, 0.05509131, 0.09103896],\n",
              "       [0.03976488, 0.08255301, 0.07691674, 0.09799512],\n",
              "       [0.06087082, 0.03254541, 0.0328664 , 0.05589187],\n",
              "       [0.        , 0.        , 0.        , 0.        ]])"
            ]
          },
          "metadata": {},
          "execution_count": 49
        }
      ]
    },
    {
      "cell_type": "code",
      "source": [
        "for row, col in enumerate(initial_q_table): \n",
        "  acts, _ = env.get_allowed_actions(row) \n",
        "  for j in range(len(col)):\n",
        "    if j not in acts:\n",
        "      initial_q_table[row,j] = float('nan')\n",
        "\n",
        "initial_q_table"
      ],
      "metadata": {
        "colab": {
          "base_uri": "https://localhost:8080/"
        },
        "id": "rfY3B_Xv-pVD",
        "outputId": "efae1a3c-ec09-4d65-aeda-ba724a748f68"
      },
      "execution_count": 50,
      "outputs": [
        {
          "output_type": "execute_result",
          "data": {
            "text/plain": [
              "array([[       nan, 0.04948859,        nan,        nan],\n",
              "       [0.04180966, 0.06007078,        nan, 0.09795899],\n",
              "       [       nan, 0.08472744, 0.03647369, 0.02443795],\n",
              "       [       nan,        nan, 0.03089788, 0.04889979],\n",
              "       [       nan, 0.01234417, 0.03744533,        nan],\n",
              "       [0.09795036, 0.04534532,        nan, 0.08442295],\n",
              "       [0.02407037,        nan, 0.01558472,        nan],\n",
              "       [0.09056421, 0.06994575,        nan,        nan],\n",
              "       [0.03889401, 0.09707372,        nan,        nan],\n",
              "       [       nan, 0.09434083,        nan, 0.07290902],\n",
              "       [0.08583474, 0.09763367, 0.00297346,        nan],\n",
              "       [0.00405119,        nan,        nan,        nan],\n",
              "       [0.03976488, 0.08255301,        nan, 0.09799512],\n",
              "       [0.06087082,        nan, 0.0328664 ,        nan],\n",
              "       [0.        ,        nan,        nan,        nan]])"
            ]
          },
          "metadata": {},
          "execution_count": 50
        }
      ]
    },
    {
      "cell_type": "code",
      "source": [
        "class Agent(object): \n",
        "  def __init__(self): \n",
        "    self.epochs = 0\n",
        "    self.history = []\n",
        "    self.total_rewards = 0\n",
        "    self.alpha = 0.2 # learning rate\n",
        "    self.gamma = 0.8 # discount = 1/(1 + discount rate)\n",
        "    self.epsilon = 0.1 # explore with prob epsilon or exploit with prob 1-epsilon \n",
        "    self._create_q_table()\n",
        "\n",
        "  def _create_q_table(self):\n",
        "    from copy import copy\n",
        "    self.q_table = copy(initial_q_table)\n",
        "\n",
        "  def choose_action_state_pair(self, old_state, actions, states):\n",
        "    if random.uniform(0,1) < self.epsilon: # with Prob epsilon, explore the enviroment\n",
        "        ix = random.randrange(len(actions)) # by choosing a random action\n",
        "    else: # with Prob 1-epsilon exploit stored knowledge\n",
        "        ix = self.q_table[old_state, actions].argmax() # by choosing the action which maximize Q \n",
        "    action, state = actions[ix], states[ix]\n",
        "    return action, state\n",
        "\n",
        "  def update_q_table(self, old_state, act, next_state, reward):\n",
        "    old_value = self.q_table[old_state, act] # Old Q value\n",
        "    next_max = np.nanmax(self.q_table[next_state]) # Max future Q value based on future actions \n",
        "    new_value = (1 - self.alpha) * old_value + self.alpha * (reward + self.gamma * next_max) \n",
        "    self.q_table[old_state, act] = new_value\n",
        "\n",
        "  def update_history(self, old_state, act, new_state, reward): \n",
        "    self.total_rewards += reward\n",
        "    new_epoch = ({\n",
        "                  'epoch' : self.epochs,\n",
        "                  'state' : old_state,\n",
        "                  'action' : act,\n",
        "                  'new_state' : new_state,\n",
        "                  'reward' : reward,\n",
        "                  'sum_rewards' :self.total_rewards\n",
        "                  })\n",
        "    self.epochs += 1 \n",
        "    self.history.append(new_epoch)"
      ],
      "metadata": {
        "id": "Xbi-nlE_-wnK"
      },
      "execution_count": 52,
      "outputs": []
    },
    {
      "cell_type": "code",
      "source": [
        "env = Enviro(MazeMatrix, (1,1), (6,3)) \n",
        "maze_start = env.state # normal start\n",
        "robot = Agent()"
      ],
      "metadata": {
        "id": "o1E7ZzTj_jkW"
      },
      "execution_count": 53,
      "outputs": []
    },
    {
      "cell_type": "code",
      "source": [
        "n_episodes = 100 \n",
        "total_epochs = 0\n",
        "for i in range(n_episodes): \n",
        "  epochs = 0\n",
        "  done = False\n",
        "  env.state = maze_start # reset to start state\n",
        "\n",
        "  while not done:\n",
        "    old_state = env.state # get the state from the Envo instance of the class\n",
        "    acts, sts = env.get_allowed_actions(old_state)\n",
        "    act, new_state = robot.choose_action_state_pair(old_state, acts, sts)\n",
        "    reward, done = env.step(new_state) # get reward, and update the robots position in the maze env. \n",
        "    robot.update_q_table(old_state,act,new_state,reward)\n",
        "    epochs += 1\n",
        "\n",
        "  total_epochs += epochs"
      ],
      "metadata": {
        "id": "k6AkWX6N_pzD"
      },
      "execution_count": 54,
      "outputs": []
    },
    {
      "cell_type": "code",
      "source": [
        "print(robot.q_table)"
      ],
      "metadata": {
        "colab": {
          "base_uri": "https://localhost:8080/"
        },
        "id": "eMpH4Ss2_4DR",
        "outputId": "70b269fc-6b61-4895-dd72-bee917f70a63"
      },
      "execution_count": 55,
      "outputs": [
        {
          "output_type": "stream",
          "name": "stdout",
          "text": [
            "[[        nan -2.48448434         nan         nan]\n",
            " [-3.23351112 -3.34827689         nan -1.8546742 ]\n",
            " [        nan -2.96342732 -3.01043997 -1.06793358]\n",
            " [        nan         nan -2.35279771 -0.08482338]\n",
            " [        nan  1.14399396 -1.38202178         nan]\n",
            " [-3.16177912 -3.1477511          nan -3.08958493]\n",
            " [-2.32217705         nan -3.03200155         nan]\n",
            " [-0.23096474  2.67999809         nan         nan]\n",
            " [-3.15682103 -3.15225964         nan         nan]\n",
            " [        nan  6.99999997         nan  1.85670246]\n",
            " [-0.49839199  0.12541862  4.59999974         nan]\n",
            " [-3.15683935         nan         nan         nan]\n",
            " [ 2.68738282 10.                 nan  1.10689459]\n",
            " [ 0.15178026         nan  5.3050045          nan]\n",
            " [ 0.                 nan         nan         nan]]\n"
          ]
        }
      ]
    },
    {
      "cell_type": "code",
      "source": [
        "n_episodes = 1000 \n",
        "total_epochs = 0\n",
        "\n",
        "for i in range(n_episodes): \n",
        "  epochs = 0\n",
        "  done = False\n",
        "\n",
        "  env.state = maze_start # reset to start state\n",
        "\n",
        "  while not done:\n",
        "    old_state = env.state # get the state from the Envo instance of the class\n",
        "    acts, sts = env.get_allowed_actions(old_state)\n",
        "    act, new_state = robot.choose_action_state_pair(old_state, acts, sts)\n",
        "    reward, done = env.step(new_state) # get reward, and update the robots position in the maze env. \n",
        "    robot.update_q_table(old_state,act,new_state,reward)\n",
        "    epochs += 1\n",
        "    \n",
        "print(robot.q_table)"
      ],
      "metadata": {
        "colab": {
          "base_uri": "https://localhost:8080/"
        },
        "id": "bF8X1PWk_7C8",
        "outputId": "c27db9e8-a7f3-410a-853c-5ca52251cb5d"
      },
      "execution_count": 56,
      "outputs": [
        {
          "output_type": "stream",
          "name": "stdout",
          "text": [
            "[[        nan -2.4834176          nan         nan]\n",
            " [-2.98733101 -2.9915905          nan -1.854272  ]\n",
            " [        nan -2.48346867 -2.48345347 -1.06784   ]\n",
            " [        nan         nan -1.85427231 -0.0848    ]\n",
            " [        nan  1.144      -1.06784876         nan]\n",
            " [-3.02610682 -3.1477511          nan -2.48396224]\n",
            " [-1.85427203         nan -3.0360601          nan]\n",
            " [-0.08480167  2.68               nan         nan]\n",
            " [-3.15682103 -3.15225964         nan         nan]\n",
            " [        nan  7.                 nan  2.67998825]\n",
            " [ 1.14365889  4.59953816  4.6                nan]\n",
            " [-3.15683935         nan         nan         nan]\n",
            " [ 4.59968221 10.                 nan  4.5974139 ]\n",
            " [ 1.85155296         nan  6.99999982         nan]\n",
            " [ 0.                 nan         nan         nan]]\n"
          ]
        }
      ]
    },
    {
      "cell_type": "code",
      "source": [
        "robot.epsilon = 0 # no exploring, purely use Q values \n",
        "env.state = maze_start # reset to start state \n",
        "robot.history = [] # clear history\n",
        "done = False\n",
        "while not done:\n",
        "  old_state = env.state # get the state from the Envo instance of the class\n",
        "  acts, sts = env.get_allowed_actions(old_state)\n",
        "  act, new_state = robot.choose_action_state_pair(old_state, acts, sts)\n",
        "  reward, done = env.step(new_state) # get reward, and update the robots position in the maze env. \n",
        "  robot.update_history(old_state,act,new_state,reward)"
      ],
      "metadata": {
        "id": "G3-OOTecATFf"
      },
      "execution_count": 58,
      "outputs": []
    },
    {
      "cell_type": "code",
      "source": [
        "robot.history"
      ],
      "metadata": {
        "colab": {
          "base_uri": "https://localhost:8080/"
        },
        "id": "GoP5MvmcAkC3",
        "outputId": "05e7bc62-b828-4881-8784-4ab72677e728"
      },
      "execution_count": 59,
      "outputs": [
        {
          "output_type": "execute_result",
          "data": {
            "text/plain": [
              "[{'epoch': 0,\n",
              "  'state': 0,\n",
              "  'action': 1,\n",
              "  'new_state': 1,\n",
              "  'reward': -1,\n",
              "  'sum_rewards': -1},\n",
              " {'epoch': 1,\n",
              "  'state': 1,\n",
              "  'action': 3,\n",
              "  'new_state': 2,\n",
              "  'reward': -1,\n",
              "  'sum_rewards': -2},\n",
              " {'epoch': 2,\n",
              "  'state': 2,\n",
              "  'action': 3,\n",
              "  'new_state': 3,\n",
              "  'reward': -1,\n",
              "  'sum_rewards': -3},\n",
              " {'epoch': 3,\n",
              "  'state': 3,\n",
              "  'action': 3,\n",
              "  'new_state': 4,\n",
              "  'reward': -1,\n",
              "  'sum_rewards': -4},\n",
              " {'epoch': 4,\n",
              "  'state': 4,\n",
              "  'action': 1,\n",
              "  'new_state': 7,\n",
              "  'reward': -1,\n",
              "  'sum_rewards': -5},\n",
              " {'epoch': 5,\n",
              "  'state': 7,\n",
              "  'action': 1,\n",
              "  'new_state': 10,\n",
              "  'reward': -1,\n",
              "  'sum_rewards': -6},\n",
              " {'epoch': 6,\n",
              "  'state': 10,\n",
              "  'action': 2,\n",
              "  'new_state': 9,\n",
              "  'reward': -1,\n",
              "  'sum_rewards': -7},\n",
              " {'epoch': 7,\n",
              "  'state': 9,\n",
              "  'action': 1,\n",
              "  'new_state': 12,\n",
              "  'reward': -1,\n",
              "  'sum_rewards': -8},\n",
              " {'epoch': 8,\n",
              "  'state': 12,\n",
              "  'action': 1,\n",
              "  'new_state': 14,\n",
              "  'reward': 10,\n",
              "  'sum_rewards': 2}]"
            ]
          },
          "metadata": {},
          "execution_count": 59
        }
      ]
    },
    {
      "cell_type": "markdown",
      "source": [
        "# Part 3 : Reinforcement Learning"
      ],
      "metadata": {
        "id": "Wl1fK-Fe86fW"
      }
    },
    {
      "cell_type": "code",
      "source": [
        " # Import the packages\n",
        "\n",
        "import keras\n",
        "from keras import layers, models, optimizers \n",
        "from keras import backend as K \n",
        "from collections import namedtuple, deque\n",
        "from keras.models import Sequential\n",
        "from keras.models import load_model\n",
        "from keras.layers import Dense\n",
        "from tensorflow.keras.optimizers import Adam\n",
        "\n",
        "\n",
        "import numpy as np\n",
        "import pandas as pd\n",
        "import matplotlib.pyplot as plt\n",
        "from pandas import read_csv, set_option \n",
        "import datetime\n",
        "import math\n",
        "from numpy.random import choice\n",
        "import random\n",
        "from collections import deque"
      ],
      "metadata": {
        "id": "tVUFCSbN8-7e"
      },
      "execution_count": 60,
      "outputs": []
    },
    {
      "cell_type": "code",
      "source": [
        "# Load the data\n",
        "data = pd.read_csv(\"SP500.csv\")\n",
        "\n",
        "data.head(5)\n",
        "\n",
        "data['Close'].plot()"
      ],
      "metadata": {
        "colab": {
          "base_uri": "https://localhost:8080/",
          "height": 283
        },
        "id": "6sIC_LIHBC8-",
        "outputId": "2153fd08-a79c-4635-c454-3f70564ffd64"
      },
      "execution_count": 61,
      "outputs": [
        {
          "output_type": "execute_result",
          "data": {
            "text/plain": [
              "<Axes: >"
            ]
          },
          "metadata": {},
          "execution_count": 61
        },
        {
          "output_type": "display_data",
          "data": {
            "text/plain": [
              "<Figure size 432x288 with 1 Axes>"
            ],
            "image/png": "[encoded data removed]"
          },
          "metadata": {
            "needs_background": "light"
          }
        }
      ]
    },
    {
      "cell_type": "code",
      "source": [
        "# Checking for any null values and removing the null values'''\n",
        "print('Null Values =',data.isnull().values.any())"
      ],
      "metadata": {
        "colab": {
          "base_uri": "https://localhost:8080/"
        },
        "id": "on9N-Y8xBH_5",
        "outputId": "06ff2bc7-6909-494a-8445-8bd2d8d71abc"
      },
      "execution_count": 62,
      "outputs": [
        {
          "output_type": "stream",
          "name": "stdout",
          "text": [
            "Null Values = False\n"
          ]
        }
      ]
    },
    {
      "cell_type": "code",
      "source": [
        "X=list(data[\"Close\"])\n",
        "\n",
        "X = X[-0:640]\n",
        "\n",
        "validation_size = 0.5"
      ],
      "metadata": {
        "id": "qaceero-BL_J"
      },
      "execution_count": 63,
      "outputs": []
    },
    {
      "cell_type": "code",
      "source": [
        "#In case the data is not dependent on the time series, then train and test split should be done based on sequential sample\n",
        "#This can be done by selecting an arbitrary split point in the ordered list of observations and creating two new datasets.\n",
        "train_size1 = int(len(X) * 0.2)\n",
        "train_size2 = int(len(X) * 0.4)\n",
        "test_size = len(X) - train_size1 - train_size2\n",
        "\n",
        "X_train1 = X[:train_size1]\n",
        "X_train2 = X[train_size1:train_size1+train_size2]\n",
        "X_test = X[train_size1+train_size2:]\n",
        "\n",
        "plt.plot(X_train1)\n",
        "plt.plot(X_train2)\n",
        "plt.plot(X_test)\n",
        "\n",
        "!pip install yfinance\n",
        "import yfinance as yf\n",
        "\n",
        "# Download data on the ticker\n",
        "ticker = yf.Ticker(\"AAPL\")\n",
        "data = ticker.history(period=\"1y\")\n",
        "\n",
        "# Set the time-frame on the training set\n",
        "train_start_date = '2020-01-01'\n",
        "train_end_date = '2020-06-30'\n",
        "train_data = data.loc[train_start_date : train_end_date]"
      ],
      "metadata": {
        "colab": {
          "base_uri": "https://localhost:8080/",
          "height": 857
        },
        "id": "epaWpum6BOKc",
        "outputId": "60d795bf-426e-403d-f7f5-06bd83a9e9c3"
      },
      "execution_count": 64,
      "outputs": [
        {
          "output_type": "stream",
          "name": "stdout",
          "text": [
            "Looking in indexes: https://pypi.org/simple, https://us-python.pkg.dev/colab-wheels/public/simple/\n",
            "Collecting yfinance\n",
            "  Downloading yfinance-0.2.12-py2.py3-none-any.whl (59 kB)\n",
            "\u001b[2K     \u001b[90m━━━━━━━━━━━━━━━━━━━━━━━━━━━━━━━━━━━━━━━━\u001b[0m \u001b[32m59.2/59.2 KB\u001b[0m \u001b[31m6.7 MB/s\u001b[0m eta \u001b[36m0:00:00\u001b[0m\n",
            "\u001b[?25hRequirement already satisfied: html5lib>=1.1 in /usr/local/lib/python3.9/dist-packages (from yfinance) (1.1)\n",
            "Requirement already satisfied: numpy>=1.16.5 in /usr/local/lib/python3.9/dist-packages (from yfinance) (1.22.4)\n",
            "Collecting frozendict>=2.3.4\n",
            "  Downloading frozendict-2.3.5-cp39-cp39-manylinux_2_17_x86_64.manylinux2014_x86_64.whl (112 kB)\n",
            "\u001b[2K     \u001b[90m━━━━━━━━━━━━━━━━━━━━━━━━━━━━━━━━━━━━━━\u001b[0m \u001b[32m112.8/112.8 KB\u001b[0m \u001b[31m10.7 MB/s\u001b[0m eta \u001b[36m0:00:00\u001b[0m\n",
            "\u001b[?25hRequirement already satisfied: multitasking>=0.0.7 in /usr/local/lib/python3.9/dist-packages (from yfinance) (0.0.11)\n",
            "Collecting appdirs>=1.4.4\n",
            "  Downloading appdirs-1.4.4-py2.py3-none-any.whl (9.6 kB)\n",
            "Requirement already satisfied: pytz>=2022.5 in /usr/local/lib/python3.9/dist-packages (from yfinance) (2022.7.1)\n",
            "Collecting cryptography>=3.3.2\n",
            "  Downloading cryptography-39.0.2-cp36-abi3-manylinux_2_28_x86_64.whl (4.2 MB)\n",
            "\u001b[2K     \u001b[90m━━━━━━━━━━━━━━━━━━━━━━━━━━━━━━━━━━━━━━━━\u001b[0m \u001b[32m4.2/4.2 MB\u001b[0m \u001b[31m61.8 MB/s\u001b[0m eta \u001b[36m0:00:00\u001b[0m\n",
            "\u001b[?25hRequirement already satisfied: lxml>=4.9.1 in /usr/local/lib/python3.9/dist-packages (from yfinance) (4.9.2)\n",
            "Requirement already satisfied: beautifulsoup4>=4.11.1 in /usr/local/lib/python3.9/dist-packages (from yfinance) (4.11.2)\n",
            "Requirement already satisfied: pandas>=1.3.0 in /usr/local/lib/python3.9/dist-packages (from yfinance) (1.4.4)\n",
            "Requirement already satisfied: requests>=2.26 in /usr/local/lib/python3.9/dist-packages (from yfinance) (2.27.1)\n",
            "Requirement already satisfied: soupsieve>1.2 in /usr/local/lib/python3.9/dist-packages (from beautifulsoup4>=4.11.1->yfinance) (2.4)\n",
            "Requirement already satisfied: cffi>=1.12 in /usr/local/lib/python3.9/dist-packages (from cryptography>=3.3.2->yfinance) (1.15.1)\n",
            "Requirement already satisfied: webencodings in /usr/local/lib/python3.9/dist-packages (from html5lib>=1.1->yfinance) (0.5.1)\n",
            "Requirement already satisfied: six>=1.9 in /usr/local/lib/python3.9/dist-packages (from html5lib>=1.1->yfinance) (1.15.0)\n",
            "Requirement already satisfied: python-dateutil>=2.8.1 in /usr/local/lib/python3.9/dist-packages (from pandas>=1.3.0->yfinance) (2.8.2)\n",
            "Requirement already satisfied: urllib3<1.27,>=1.21.1 in /usr/local/lib/python3.9/dist-packages (from requests>=2.26->yfinance) (1.26.15)\n",
            "Requirement already satisfied: certifi>=2017.4.17 in /usr/local/lib/python3.9/dist-packages (from requests>=2.26->yfinance) (2022.12.7)\n",
            "Requirement already satisfied: idna<4,>=2.5 in /usr/local/lib/python3.9/dist-packages (from requests>=2.26->yfinance) (3.4)\n",
            "Requirement already satisfied: charset-normalizer~=2.0.0 in /usr/local/lib/python3.9/dist-packages (from requests>=2.26->yfinance) (2.0.12)\n",
            "Requirement already satisfied: pycparser in /usr/local/lib/python3.9/dist-packages (from cffi>=1.12->cryptography>=3.3.2->yfinance) (2.21)\n",
            "Installing collected packages: appdirs, frozendict, cryptography, yfinance\n",
            "Successfully installed appdirs-1.4.4 cryptography-39.0.2 frozendict-2.3.5 yfinance-0.2.12\n"
          ]
        },
        {
          "output_type": "display_data",
          "data": {
            "text/plain": [
              "<Figure size 432x288 with 1 Axes>"
            ],
            "image/png": "[encoded data removed]"
          },
          "metadata": {
            "needs_background": "light"
          }
        }
      ]
    },
    {
      "cell_type": "code",
      "source": [
        "# Set the time-frame for the first training set\n",
        "train_start_date_1 = '2020-01-01'\n",
        "train_end_date_1 = '2020-06-30'\n",
        "train_data_1 = data.loc[train_start_date_1 : train_end_date_1]\n",
        "\n",
        "# Set the time-frame for the second training set\n",
        "train_start_date_2 = '2020-07-01'\n",
        "train_end_date_2 = '2020-12-31'\n",
        "train_data_2 = data.loc[train_start_date_2 : train_end_date_2]"
      ],
      "metadata": {
        "id": "VOrYiFd-BXWs"
      },
      "execution_count": 65,
      "outputs": []
    },
    {
      "cell_type": "code",
      "source": [
        "#from IPython.core.debugger import set_trace\n",
        "import random\n",
        "from collections import deque"
      ],
      "metadata": {
        "id": "ZuKIBlpJBZ7A"
      },
      "execution_count": 66,
      "outputs": []
    },
    {
      "cell_type": "code",
      "source": [
        "class Agent:\n",
        "    def __init__(self, state_size, is_eval=False, model_name=\"\", learning_rate=0.01):\n",
        "        # State size depends and is equal to the window size, and previous days\n",
        "        self.state_size = state_size # normalize previous days\n",
        "        self.action_size = 3 # sit, buy, sell\n",
        "        self.memory = deque(maxlen=1000)\n",
        "        self.inventory = []\n",
        "        self.model_name = model_name\n",
        "        self.is_eval = is_eval\n",
        "        self.gamma = 0.95\n",
        "        self.epsilon = 1.0\n",
        "        self.epsilon_min = 0.01\n",
        "        self.epsilon_decay = 0.995\n",
        "        self.learning_rate = learning_rate\n",
        "\n",
        "        self.model = load_model(model_name) if is_eval else self._model()\n",
        "    # Deep Q learning model - returns the q-value when given state as input\n",
        "    # Change of layers network to something that run quicly, 12 and 4\n",
        "    def _model(self):\n",
        "        model = Sequential()\n",
        "        model.add(Dense(units=12, input_dim=self.state_size, activation=\"relu\"))\n",
        "        model.add(Dense(units=4, activation=\"relu\"))\n",
        "        model.add(Dense(units=4, activation=\"relu\"))\n",
        "        model.add(Dense(self.action_size, activation=\"linear\"))\n",
        "        model.compile(loss=\"mse\", optimizer=Adam(learning_rate=self.learning_rate))\n",
        "        return model\n",
        "    \n",
        "    def act(self, state): \n",
        "        if not self.is_eval and random.random() <= self.epsilon:\n",
        "            return random.randrange(self.action_size)        \n",
        "        options = self.model.predict(state)\n",
        "        return np.argmax(options[0])\n",
        "    \n",
        "    def expReplay(self, batch_size):\n",
        "        mini_batch = random.sample(self.memory, batch_size)\n",
        "        for state, action, reward, next_state, done in mini_batch:\n",
        "            target = reward \n",
        "            if not done:\n",
        "                next_state = np.reshape(next_state, (1, self.state_size))\n",
        "                Q_next = self.model.predict(next_state)[0]\n",
        "                target = reward + self.gamma * np.amax(Q_next)\n",
        "            state = np.reshape(state, (1, self.state_size))\n",
        "            Q_current = self.model.predict(state)[0]\n",
        "            Q_current[action] = Q_current[action] + self.learning_rate * (target - Q_current[action])\n",
        "            self.model.fit(state, np.reshape(Q_current, (1, self.action_size)), verbose=0)\n",
        "            \n",
        "        if self.epsilon > self.epsilon_min:\n",
        "            self.epsilon *= self.epsilon_decay\n",
        "\n",
        "    def load(self, name):\n",
        "        self.model.load_weights(name)\n",
        "\n",
        "    def save(self, name):\n",
        "        self.model.save_weights(name)\n"
      ],
      "metadata": {
        "id": "QfRtzulIBdH9"
      },
      "execution_count": 67,
      "outputs": []
    },
    {
      "cell_type": "code",
      "source": [
        "# prints formatted price\n",
        "def formatPrice(n):\n",
        "    return (\"-$\" if n < 0 else \"$\") + \"{0:.2f}\".format(abs(n))\n",
        "\n",
        "# returns the sigmoid\n",
        "def sigmoid(x):\n",
        "    return 1 / (1 + math.exp(-x))\n",
        "\n",
        "# returns an an n-day state representation ending at time t\n",
        "def getState(data, t, n):    \n",
        "    d = t - n + 1\n",
        "    block = data[d:t + 1] if d >= 0 else -d * [data[0]] + data[0:t + 1] # pad with t0\n",
        "    #block is which is the for [1283.27002, 1283.27002]\n",
        "    res = []\n",
        "    for i in range(n - 1):\n",
        "        res.append(sigmoid(block[i + 1] - block[i]))\n",
        "    return np.array([res])"
      ],
      "metadata": {
        "id": "HHMrCbWRBfRd"
      },
      "execution_count": 68,
      "outputs": []
    },
    {
      "cell_type": "code",
      "source": [
        "# Plots the behavior of the output\n",
        "def plot_behavior(data_input, states_buy, states_sell, profit):\n",
        "    fig = plt.figure(figsize = (15,5))\n",
        "    plt.plot(data_input, color='r', lw=2.)\n",
        "    plt.plot(data_input, '^', markersize=10, color='m', label = 'Buying signal', markevery = states_buy)\n",
        "    plt.plot(data_input, 'v', markersize=10, color='k', label = 'Selling signal', markevery = states_sell)\n",
        "    plt.title('Total gains: %f'%(profit))\n",
        "    plt.legend()\n",
        "    #plt.savefig('output/'+name+'.png')\n",
        "    plt.show()"
      ],
      "metadata": {
        "id": "fa59zkFABiGM"
      },
      "execution_count": 69,
      "outputs": []
    },
    {
      "cell_type": "code",
      "source": [
        "window_size = 1\n",
        "agent = Agent(window_size)\n",
        "#In this step we feed the closing value of the stock price \n",
        "data = X_train1\n",
        "data2 = X_train2\n",
        "data3 = X_test\n",
        "l = len(data) - 1\n",
        "#\n",
        "batch_size = 127\n",
        "#\n",
        "episode_count = 10"
      ],
      "metadata": {
        "id": "r2zQSjitBj9M"
      },
      "execution_count": 70,
      "outputs": []
    },
    {
      "cell_type": "code",
      "source": [
        "for e in range(episode_count + 1):\n",
        "    print(\"Running episode \" + str(e) + \"/\" + str(episode_count))\n",
        "    state = getState(data, 0, window_size + 1)\n",
        "    #set_trace()\n",
        "    total_profit = 0\n",
        "    agent.inventory = []\n",
        "    states_sell = []\n",
        "    states_buy = []\n",
        "    for t in range(l):\n",
        "        action = agent.act(state)    \n",
        "        # sit\n",
        "        print('time')\n",
        "        print(t,\"/ \", l)\n",
        "        next_state = getState(data, t + 1, window_size + 1)\n",
        "        reward = 0\n",
        "\n",
        "        if action == 1: # buy\n",
        "            agent.inventory.append(data[t])\n",
        "            states_buy.append(t)\n",
        "            #print(\"Buy: \" + formatPrice(data[t]))\n",
        "\n",
        "        elif action == 2 and len(agent.inventory) > 0: # sell\n",
        "            bought_price = agent.inventory.pop(0)      \n",
        "            reward = max(data[t] - bought_price, 0)\n",
        "            total_profit += data[t] - bought_price\n",
        "            states_sell.append(t)\n",
        "            #print(\"Sell: \" + formatPrice(data[t]) + \" | Profit: \" + formatPrice(data[t] - bought_price))\n",
        "\n",
        "        done = True if t == l - 1 else False\n",
        "        #appends the details of the state action etc in the memory, which is used further by the exeReply function\n",
        "        agent.memory.append((state, action, reward, next_state, done))\n",
        "        state = next_state\n",
        "\n",
        "        if done:\n",
        "            print(\"--------------------------------\")\n",
        "            print(\"Total Profit: \" + formatPrice(total_profit))\n",
        "            print(\"--------------------------------\")\n",
        "            #set_trace()\n",
        "            #pd.DataFrame(np.array(agent.memory)).to_csv(\"Agent\"+str(e)+\".csv\")\n",
        "            #Chart to show how the model performs with the stock goin up and down for each \n",
        "            plot_behavior(data,states_buy, states_sell, total_profit)\n",
        "        if len(agent.memory) > batch_size:\n",
        "            agent.expReplay(batch_size)    \n",
        "            \n",
        "\n",
        "    if e % 2 == 0:\n",
        "        agent.model.save(\"model_ep\" + str(e))"
      ],
      "metadata": {
        "colab": {
          "base_uri": "https://localhost:8080/",
          "height": 1000
        },
        "id": "P6QscOMdBl3l",
        "outputId": "6fc4d72e-33f3-428a-a767-a8836572d54e"
      },
      "execution_count": 71,
      "outputs": [
        {
          "output_type": "stream",
          "name": "stdout",
          "text": [
            "Running episode 0/10\n",
            "time\n",
            "0 /  127\n",
            "time\n",
            "1 /  127\n",
            "time\n",
            "2 /  127\n",
            "time\n",
            "3 /  127\n",
            "time\n",
            "4 /  127\n",
            "time\n",
            "5 /  127\n",
            "time\n",
            "6 /  127\n",
            "time\n",
            "7 /  127\n",
            "time\n",
            "8 /  127\n",
            "time\n",
            "9 /  127\n",
            "time\n",
            "10 /  127\n",
            "time\n",
            "11 /  127\n",
            "time\n",
            "12 /  127\n",
            "time\n",
            "13 /  127\n",
            "time\n",
            "14 /  127\n",
            "time\n",
            "15 /  127\n",
            "time\n",
            "16 /  127\n",
            "time\n",
            "17 /  127\n",
            "time\n",
            "18 /  127\n",
            "time\n",
            "19 /  127\n",
            "time\n",
            "20 /  127\n",
            "time\n",
            "21 /  127\n",
            "time\n",
            "22 /  127\n",
            "time\n",
            "23 /  127\n",
            "time\n",
            "24 /  127\n",
            "time\n",
            "25 /  127\n",
            "time\n",
            "26 /  127\n",
            "time\n",
            "27 /  127\n",
            "time\n",
            "28 /  127\n",
            "time\n",
            "29 /  127\n",
            "time\n",
            "30 /  127\n",
            "time\n",
            "31 /  127\n",
            "time\n",
            "32 /  127\n",
            "time\n",
            "33 /  127\n",
            "time\n",
            "34 /  127\n",
            "time\n",
            "35 /  127\n",
            "time\n",
            "36 /  127\n",
            "time\n",
            "37 /  127\n",
            "time\n",
            "38 /  127\n",
            "time\n",
            "39 /  127\n",
            "time\n",
            "40 /  127\n",
            "time\n",
            "41 /  127\n",
            "time\n",
            "42 /  127\n",
            "time\n",
            "43 /  127\n",
            "time\n",
            "44 /  127\n",
            "time\n",
            "45 /  127\n",
            "time\n",
            "46 /  127\n",
            "time\n",
            "47 /  127\n",
            "time\n",
            "48 /  127\n",
            "time\n",
            "49 /  127\n",
            "time\n",
            "50 /  127\n",
            "time\n",
            "51 /  127\n",
            "time\n",
            "52 /  127\n",
            "time\n",
            "53 /  127\n",
            "time\n",
            "54 /  127\n",
            "time\n",
            "55 /  127\n",
            "time\n",
            "56 /  127\n",
            "time\n",
            "57 /  127\n",
            "time\n",
            "58 /  127\n",
            "time\n",
            "59 /  127\n",
            "time\n",
            "60 /  127\n",
            "time\n",
            "61 /  127\n",
            "time\n",
            "62 /  127\n",
            "time\n",
            "63 /  127\n",
            "time\n",
            "64 /  127\n",
            "time\n",
            "65 /  127\n",
            "time\n",
            "66 /  127\n",
            "time\n",
            "67 /  127\n",
            "time\n",
            "68 /  127\n",
            "time\n",
            "69 /  127\n",
            "time\n",
            "70 /  127\n",
            "time\n",
            "71 /  127\n",
            "time\n",
            "72 /  127\n",
            "time\n",
            "73 /  127\n",
            "time\n",
            "74 /  127\n",
            "time\n",
            "75 /  127\n",
            "time\n",
            "76 /  127\n",
            "time\n",
            "77 /  127\n",
            "time\n",
            "78 /  127\n",
            "time\n",
            "79 /  127\n",
            "time\n",
            "80 /  127\n",
            "time\n",
            "81 /  127\n",
            "time\n",
            "82 /  127\n",
            "time\n",
            "83 /  127\n",
            "time\n",
            "84 /  127\n",
            "time\n",
            "85 /  127\n",
            "time\n",
            "86 /  127\n",
            "time\n",
            "87 /  127\n",
            "time\n",
            "88 /  127\n",
            "time\n",
            "89 /  127\n",
            "time\n",
            "90 /  127\n",
            "time\n",
            "91 /  127\n",
            "time\n",
            "92 /  127\n",
            "time\n",
            "93 /  127\n",
            "time\n",
            "94 /  127\n",
            "time\n",
            "95 /  127\n",
            "time\n",
            "96 /  127\n",
            "time\n",
            "97 /  127\n",
            "time\n",
            "98 /  127\n",
            "time\n",
            "99 /  127\n",
            "time\n",
            "100 /  127\n",
            "time\n",
            "101 /  127\n",
            "time\n",
            "102 /  127\n",
            "time\n",
            "103 /  127\n",
            "time\n",
            "104 /  127\n",
            "time\n",
            "105 /  127\n",
            "time\n",
            "106 /  127\n",
            "time\n",
            "107 /  127\n",
            "time\n",
            "108 /  127\n",
            "time\n",
            "109 /  127\n",
            "time\n",
            "110 /  127\n",
            "time\n",
            "111 /  127\n",
            "time\n",
            "112 /  127\n",
            "time\n",
            "113 /  127\n",
            "time\n",
            "114 /  127\n",
            "time\n",
            "115 /  127\n",
            "time\n",
            "116 /  127\n",
            "time\n",
            "117 /  127\n",
            "time\n",
            "118 /  127\n",
            "time\n",
            "119 /  127\n",
            "time\n",
            "120 /  127\n",
            "time\n",
            "121 /  127\n",
            "time\n",
            "122 /  127\n",
            "time\n",
            "123 /  127\n",
            "time\n",
            "124 /  127\n",
            "time\n",
            "125 /  127\n",
            "time\n",
            "126 /  127\n",
            "--------------------------------\n",
            "Total Profit: $209.93\n",
            "--------------------------------\n"
          ]
        },
        {
          "output_type": "display_data",
          "data": {
            "text/plain": [
              "<Figure size 1080x360 with 1 Axes>"
            ],
            "image/png": "[encoded data removed]"
          },
          "metadata": {
            "needs_background": "light"
          }
        },
        {
          "output_type": "stream",
          "name": "stderr",
          "text": [
            "WARNING:absl:Found untraced functions such as _update_step_xla while saving (showing 1 of 1). These functions will not be directly callable after loading.\n"
          ]
        },
        {
          "output_type": "stream",
          "name": "stdout",
          "text": [
            "Running episode 1/10\n",
            "time\n",
            "0 /  127\n",
            "1/1 [==============================] - 0s 306ms/step\n",
            "1/1 [==============================] - 0s 30ms/step\n",
            "1/1 [==============================] - 0s 20ms/step\n",
            "1/1 [==============================] - 0s 20ms/step\n",
            "1/1 [==============================] - 0s 17ms/step\n",
            "1/1 [==============================] - 0s 17ms/step\n",
            "1/1 [==============================] - 0s 26ms/step\n",
            "1/1 [==============================] - 0s 22ms/step\n",
            "1/1 [==============================] - 0s 23ms/step\n",
            "1/1 [==============================] - 0s 23ms/step\n",
            "1/1 [==============================] - 0s 22ms/step\n",
            "1/1 [==============================] - 0s 23ms/step\n",
            "1/1 [==============================] - 0s 23ms/step\n",
            "1/1 [==============================] - 0s 29ms/step\n",
            "1/1 [==============================] - 0s 22ms/step\n",
            "1/1 [==============================] - 0s 22ms/step\n",
            "1/1 [==============================] - 0s 22ms/step\n",
            "1/1 [==============================] - 0s 20ms/step\n",
            "1/1 [==============================] - 0s 22ms/step\n",
            "1/1 [==============================] - 0s 22ms/step\n",
            "1/1 [==============================] - 0s 24ms/step\n",
            "1/1 [==============================] - 0s 21ms/step\n",
            "1/1 [==============================] - 0s 20ms/step\n",
            "1/1 [==============================] - 0s 21ms/step\n",
            "1/1 [==============================] - 0s 21ms/step\n",
            "1/1 [==============================] - 0s 20ms/step\n",
            "1/1 [==============================] - 0s 21ms/step\n",
            "1/1 [==============================] - 0s 24ms/step\n",
            "1/1 [==============================] - 0s 21ms/step\n",
            "1/1 [==============================] - 0s 24ms/step\n",
            "1/1 [==============================] - 0s 23ms/step\n",
            "1/1 [==============================] - 0s 22ms/step\n",
            "1/1 [==============================] - 0s 23ms/step\n",
            "1/1 [==============================] - 0s 26ms/step\n",
            "1/1 [==============================] - 0s 24ms/step\n",
            "1/1 [==============================] - 0s 24ms/step\n",
            "1/1 [==============================] - 0s 21ms/step\n",
            "1/1 [==============================] - 0s 23ms/step\n",
            "1/1 [==============================] - 0s 20ms/step\n",
            "1/1 [==============================] - 0s 26ms/step\n",
            "1/1 [==============================] - 0s 27ms/step\n",
            "1/1 [==============================] - 0s 28ms/step\n",
            "1/1 [==============================] - 0s 21ms/step\n",
            "1/1 [==============================] - 0s 21ms/step\n",
            "1/1 [==============================] - 0s 19ms/step\n",
            "1/1 [==============================] - 0s 22ms/step\n",
            "1/1 [==============================] - 0s 23ms/step\n",
            "1/1 [==============================] - 0s 19ms/step\n",
            "1/1 [==============================] - 0s 21ms/step\n",
            "1/1 [==============================] - 0s 19ms/step\n",
            "1/1 [==============================] - 0s 21ms/step\n",
            "1/1 [==============================] - 0s 25ms/step\n",
            "1/1 [==============================] - 0s 25ms/step\n",
            "1/1 [==============================] - 0s 19ms/step\n",
            "1/1 [==============================] - 0s 19ms/step\n",
            "1/1 [==============================] - 0s 22ms/step\n",
            "1/1 [==============================] - 0s 20ms/step\n",
            "1/1 [==============================] - 0s 23ms/step\n",
            "1/1 [==============================] - 0s 19ms/step\n",
            "1/1 [==============================] - 0s 22ms/step\n",
            "1/1 [==============================] - 0s 22ms/step\n",
            "1/1 [==============================] - 0s 19ms/step\n",
            "1/1 [==============================] - 0s 25ms/step\n",
            "1/1 [==============================] - 0s 23ms/step\n",
            "1/1 [==============================] - 0s 21ms/step\n",
            "1/1 [==============================] - 0s 25ms/step\n",
            "1/1 [==============================] - 0s 21ms/step\n",
            "1/1 [==============================] - 0s 22ms/step\n",
            "1/1 [==============================] - 0s 22ms/step\n",
            "1/1 [==============================] - 0s 21ms/step\n",
            "1/1 [==============================] - 0s 20ms/step\n",
            "1/1 [==============================] - 0s 27ms/step\n",
            "1/1 [==============================] - 0s 20ms/step\n",
            "1/1 [==============================] - 0s 22ms/step\n",
            "1/1 [==============================] - 0s 31ms/step\n",
            "1/1 [==============================] - 0s 22ms/step\n",
            "1/1 [==============================] - 0s 19ms/step\n",
            "1/1 [==============================] - 0s 21ms/step\n",
            "1/1 [==============================] - 0s 24ms/step\n",
            "1/1 [==============================] - 0s 20ms/step\n",
            "1/1 [==============================] - 0s 21ms/step\n",
            "1/1 [==============================] - 0s 24ms/step\n",
            "1/1 [==============================] - 0s 20ms/step\n",
            "1/1 [==============================] - 0s 23ms/step\n",
            "1/1 [==============================] - 0s 28ms/step\n",
            "1/1 [==============================] - 0s 23ms/step\n",
            "1/1 [==============================] - 0s 22ms/step\n",
            "1/1 [==============================] - 0s 22ms/step\n",
            "1/1 [==============================] - 0s 22ms/step\n",
            "1/1 [==============================] - 0s 22ms/step\n",
            "1/1 [==============================] - 0s 22ms/step\n",
            "1/1 [==============================] - 0s 23ms/step\n",
            "1/1 [==============================] - 0s 22ms/step\n",
            "1/1 [==============================] - 0s 22ms/step\n",
            "1/1 [==============================] - 0s 31ms/step\n",
            "1/1 [==============================] - 0s 43ms/step\n",
            "1/1 [==============================] - 0s 26ms/step\n",
            "1/1 [==============================] - 0s 23ms/step\n",
            "1/1 [==============================] - 0s 26ms/step\n",
            "1/1 [==============================] - 0s 25ms/step\n",
            "1/1 [==============================] - 0s 24ms/step\n",
            "1/1 [==============================] - 0s 28ms/step\n",
            "1/1 [==============================] - 0s 26ms/step\n",
            "1/1 [==============================] - 0s 27ms/step\n",
            "1/1 [==============================] - 0s 24ms/step\n",
            "1/1 [==============================] - 0s 33ms/step\n",
            "1/1 [==============================] - 0s 27ms/step\n",
            "1/1 [==============================] - 0s 35ms/step\n",
            "1/1 [==============================] - 0s 21ms/step\n",
            "1/1 [==============================] - 0s 21ms/step\n",
            "1/1 [==============================] - 0s 21ms/step\n",
            "1/1 [==============================] - 0s 23ms/step\n",
            "1/1 [==============================] - 0s 21ms/step\n",
            "1/1 [==============================] - 0s 22ms/step\n",
            "1/1 [==============================] - 0s 22ms/step\n",
            "1/1 [==============================] - 0s 23ms/step\n",
            "1/1 [==============================] - 0s 23ms/step\n",
            "1/1 [==============================] - 0s 22ms/step\n",
            "1/1 [==============================] - 0s 22ms/step\n",
            "1/1 [==============================] - 0s 21ms/step\n",
            "1/1 [==============================] - 0s 19ms/step\n",
            "1/1 [==============================] - 0s 19ms/step\n",
            "1/1 [==============================] - 0s 20ms/step\n",
            "1/1 [==============================] - 0s 19ms/step\n",
            "1/1 [==============================] - 0s 21ms/step\n",
            "1/1 [==============================] - 0s 22ms/step\n",
            "1/1 [==============================] - 0s 21ms/step\n",
            "1/1 [==============================] - 0s 25ms/step\n",
            "1/1 [==============================] - 0s 20ms/step\n",
            "1/1 [==============================] - 0s 22ms/step\n",
            "1/1 [==============================] - 0s 20ms/step\n",
            "1/1 [==============================] - 0s 20ms/step\n",
            "1/1 [==============================] - 0s 21ms/step\n",
            "1/1 [==============================] - 0s 32ms/step\n",
            "1/1 [==============================] - 0s 30ms/step\n",
            "1/1 [==============================] - 0s 29ms/step\n",
            "1/1 [==============================] - 0s 25ms/step\n",
            "1/1 [==============================] - 0s 33ms/step\n",
            "1/1 [==============================] - 0s 22ms/step\n",
            "1/1 [==============================] - 0s 27ms/step\n",
            "1/1 [==============================] - 0s 27ms/step\n",
            "1/1 [==============================] - 0s 22ms/step\n",
            "1/1 [==============================] - 0s 21ms/step\n",
            "1/1 [==============================] - 0s 21ms/step\n",
            "1/1 [==============================] - 0s 22ms/step\n",
            "1/1 [==============================] - 0s 25ms/step\n",
            "1/1 [==============================] - 0s 22ms/step\n",
            "1/1 [==============================] - 0s 21ms/step\n",
            "1/1 [==============================] - 0s 19ms/step\n",
            "1/1 [==============================] - 0s 22ms/step\n",
            "1/1 [==============================] - 0s 24ms/step\n",
            "1/1 [==============================] - 0s 22ms/step\n",
            "1/1 [==============================] - 0s 21ms/step\n",
            "1/1 [==============================] - 0s 18ms/step\n",
            "1/1 [==============================] - 0s 21ms/step\n",
            "1/1 [==============================] - 0s 22ms/step\n",
            "1/1 [==============================] - 0s 29ms/step\n",
            "1/1 [==============================] - 0s 20ms/step\n",
            "1/1 [==============================] - 0s 17ms/step\n",
            "1/1 [==============================] - 0s 17ms/step\n",
            "1/1 [==============================] - 0s 18ms/step\n",
            "1/1 [==============================] - 0s 25ms/step\n",
            "1/1 [==============================] - 0s 39ms/step\n",
            "1/1 [==============================] - 0s 21ms/step\n",
            "1/1 [==============================] - 0s 24ms/step\n",
            "1/1 [==============================] - 0s 26ms/step\n",
            "1/1 [==============================] - 0s 21ms/step\n",
            "1/1 [==============================] - 0s 23ms/step\n",
            "1/1 [==============================] - 0s 20ms/step\n",
            "1/1 [==============================] - 0s 22ms/step\n",
            "1/1 [==============================] - 0s 22ms/step\n",
            "1/1 [==============================] - 0s 21ms/step\n",
            "1/1 [==============================] - 0s 24ms/step\n",
            "1/1 [==============================] - 0s 19ms/step\n",
            "1/1 [==============================] - 0s 22ms/step\n",
            "1/1 [==============================] - 0s 21ms/step\n",
            "1/1 [==============================] - 0s 20ms/step\n",
            "1/1 [==============================] - 0s 26ms/step\n",
            "1/1 [==============================] - 0s 23ms/step\n",
            "1/1 [==============================] - 0s 23ms/step\n",
            "1/1 [==============================] - 0s 20ms/step\n",
            "1/1 [==============================] - 0s 24ms/step\n",
            "1/1 [==============================] - 0s 19ms/step\n",
            "1/1 [==============================] - 0s 22ms/step\n",
            "1/1 [==============================] - 0s 25ms/step\n",
            "1/1 [==============================] - 0s 22ms/step\n",
            "1/1 [==============================] - 0s 20ms/step\n",
            "1/1 [==============================] - 0s 20ms/step\n",
            "1/1 [==============================] - 0s 19ms/step\n",
            "1/1 [==============================] - 0s 19ms/step\n",
            "1/1 [==============================] - 0s 25ms/step\n",
            "1/1 [==============================] - 0s 19ms/step\n",
            "1/1 [==============================] - 0s 19ms/step\n",
            "1/1 [==============================] - 0s 19ms/step\n",
            "1/1 [==============================] - 0s 18ms/step\n",
            "1/1 [==============================] - 0s 20ms/step\n",
            "1/1 [==============================] - 0s 23ms/step\n",
            "1/1 [==============================] - 0s 26ms/step\n",
            "1/1 [==============================] - 0s 39ms/step\n",
            "1/1 [==============================] - 0s 74ms/step\n",
            "1/1 [==============================] - 0s 64ms/step\n",
            "1/1 [==============================] - 0s 29ms/step\n",
            "1/1 [==============================] - 0s 27ms/step\n",
            "1/1 [==============================] - 0s 46ms/step\n",
            "1/1 [==============================] - 0s 65ms/step\n",
            "1/1 [==============================] - 0s 59ms/step\n",
            "1/1 [==============================] - 0s 32ms/step\n",
            "1/1 [==============================] - 0s 27ms/step\n",
            "1/1 [==============================] - 0s 36ms/step\n",
            "1/1 [==============================] - 0s 28ms/step\n",
            "1/1 [==============================] - 0s 93ms/step\n",
            "1/1 [==============================] - 0s 31ms/step\n",
            "1/1 [==============================] - 0s 30ms/step\n",
            "1/1 [==============================] - 0s 33ms/step\n",
            "1/1 [==============================] - 0s 31ms/step\n",
            "1/1 [==============================] - 0s 18ms/step\n",
            "1/1 [==============================] - 0s 22ms/step\n",
            "1/1 [==============================] - 0s 19ms/step\n",
            "1/1 [==============================] - 0s 37ms/step\n",
            "1/1 [==============================] - 0s 29ms/step\n",
            "1/1 [==============================] - 0s 36ms/step\n",
            "1/1 [==============================] - 0s 33ms/step\n",
            "1/1 [==============================] - 0s 27ms/step\n",
            "1/1 [==============================] - 0s 35ms/step\n",
            "1/1 [==============================] - 0s 37ms/step\n",
            "1/1 [==============================] - 0s 42ms/step\n",
            "1/1 [==============================] - 0s 31ms/step\n",
            "1/1 [==============================] - 0s 38ms/step\n",
            "1/1 [==============================] - 0s 36ms/step\n",
            "1/1 [==============================] - 0s 34ms/step\n",
            "1/1 [==============================] - 0s 57ms/step\n",
            "1/1 [==============================] - 0s 30ms/step\n",
            "1/1 [==============================] - 0s 26ms/step\n",
            "1/1 [==============================] - 0s 22ms/step\n",
            "1/1 [==============================] - 0s 22ms/step\n",
            "1/1 [==============================] - 0s 21ms/step\n",
            "1/1 [==============================] - 0s 22ms/step\n",
            "1/1 [==============================] - 0s 21ms/step\n",
            "1/1 [==============================] - 0s 23ms/step\n",
            "1/1 [==============================] - 0s 20ms/step\n",
            "1/1 [==============================] - 0s 20ms/step\n",
            "1/1 [==============================] - 0s 24ms/step\n",
            "1/1 [==============================] - 0s 21ms/step\n",
            "1/1 [==============================] - 0s 23ms/step\n",
            "1/1 [==============================] - 0s 21ms/step\n",
            "1/1 [==============================] - 0s 22ms/step\n",
            "1/1 [==============================] - 0s 21ms/step\n",
            "1/1 [==============================] - 0s 23ms/step\n",
            "1/1 [==============================] - 0s 24ms/step\n",
            "1/1 [==============================] - 0s 21ms/step\n",
            "1/1 [==============================] - 0s 21ms/step\n",
            "1/1 [==============================] - 0s 23ms/step\n",
            "1/1 [==============================] - 0s 19ms/step\n",
            "time\n",
            "1 /  127\n",
            "1/1 [==============================] - 0s 22ms/step\n",
            "1/1 [==============================] - 0s 23ms/step\n",
            "1/1 [==============================] - 0s 19ms/step\n",
            "1/1 [==============================] - 0s 21ms/step\n",
            "1/1 [==============================] - 0s 21ms/step\n",
            "1/1 [==============================] - 0s 18ms/step\n",
            "1/1 [==============================] - 0s 21ms/step\n",
            "1/1 [==============================] - 0s 22ms/step\n",
            "1/1 [==============================] - 0s 23ms/step\n",
            "1/1 [==============================] - 0s 20ms/step\n",
            "1/1 [==============================] - 0s 20ms/step\n",
            "1/1 [==============================] - 0s 21ms/step\n",
            "1/1 [==============================] - 0s 24ms/step\n",
            "1/1 [==============================] - 0s 20ms/step\n",
            "1/1 [==============================] - 0s 21ms/step\n",
            "1/1 [==============================] - 0s 21ms/step\n",
            "1/1 [==============================] - 0s 22ms/step\n",
            "1/1 [==============================] - 0s 23ms/step\n",
            "1/1 [==============================] - 0s 19ms/step\n",
            "1/1 [==============================] - 0s 21ms/step\n",
            "1/1 [==============================] - 0s 23ms/step\n",
            "1/1 [==============================] - 0s 24ms/step\n",
            "1/1 [==============================] - 0s 19ms/step\n",
            "1/1 [==============================] - 0s 18ms/step\n",
            "1/1 [==============================] - 0s 23ms/step\n",
            "1/1 [==============================] - 0s 20ms/step\n",
            "1/1 [==============================] - 0s 22ms/step\n",
            "1/1 [==============================] - 0s 21ms/step\n",
            "1/1 [==============================] - 0s 21ms/step\n",
            "1/1 [==============================] - 0s 24ms/step\n",
            "1/1 [==============================] - 0s 21ms/step\n",
            "1/1 [==============================] - 0s 20ms/step\n",
            "1/1 [==============================] - 0s 23ms/step\n",
            "1/1 [==============================] - 0s 21ms/step\n",
            "1/1 [==============================] - 0s 20ms/step\n",
            "1/1 [==============================] - 0s 29ms/step\n",
            "1/1 [==============================] - 0s 19ms/step\n",
            "1/1 [==============================] - 0s 32ms/step\n",
            "1/1 [==============================] - 0s 30ms/step\n",
            "1/1 [==============================] - 0s 31ms/step\n",
            "1/1 [==============================] - 0s 72ms/step\n",
            "1/1 [==============================] - 0s 159ms/step\n",
            "1/1 [==============================] - 0s 46ms/step\n",
            "1/1 [==============================] - 0s 122ms/step\n",
            "1/1 [==============================] - 0s 95ms/step\n",
            "1/1 [==============================] - 0s 47ms/step\n",
            "1/1 [==============================] - 0s 83ms/step\n",
            "1/1 [==============================] - 0s 93ms/step\n",
            "1/1 [==============================] - 0s 76ms/step\n",
            "1/1 [==============================] - 0s 74ms/step\n",
            "1/1 [==============================] - 0s 62ms/step\n",
            "1/1 [==============================] - 0s 191ms/step\n",
            "1/1 [==============================] - 0s 36ms/step\n",
            "1/1 [==============================] - 0s 27ms/step\n",
            "1/1 [==============================] - 0s 43ms/step\n",
            "1/1 [==============================] - 0s 28ms/step\n",
            "1/1 [==============================] - 0s 27ms/step\n",
            "1/1 [==============================] - 0s 26ms/step\n",
            "1/1 [==============================] - 0s 78ms/step\n",
            "1/1 [==============================] - 0s 52ms/step\n",
            "1/1 [==============================] - 0s 36ms/step\n",
            "1/1 [==============================] - 0s 34ms/step\n",
            "1/1 [==============================] - 0s 36ms/step\n",
            "1/1 [==============================] - 0s 48ms/step\n",
            "1/1 [==============================] - 0s 21ms/step\n",
            "1/1 [==============================] - 0s 20ms/step\n",
            "1/1 [==============================] - 0s 34ms/step\n",
            "1/1 [==============================] - 0s 48ms/step\n",
            "1/1 [==============================] - 0s 41ms/step\n",
            "1/1 [==============================] - 0s 41ms/step\n",
            "1/1 [==============================] - 0s 31ms/step\n",
            "1/1 [==============================] - 0s 31ms/step\n",
            "1/1 [==============================] - 0s 43ms/step\n",
            "1/1 [==============================] - 0s 30ms/step\n",
            "1/1 [==============================] - 0s 37ms/step\n",
            "1/1 [==============================] - 0s 30ms/step\n",
            "1/1 [==============================] - 0s 32ms/step\n",
            "1/1 [==============================] - 0s 20ms/step\n",
            "1/1 [==============================] - 0s 26ms/step\n",
            "1/1 [==============================] - 0s 21ms/step\n",
            "1/1 [==============================] - 0s 20ms/step\n",
            "1/1 [==============================] - 0s 23ms/step\n",
            "1/1 [==============================] - 0s 21ms/step\n",
            "1/1 [==============================] - 0s 19ms/step\n",
            "1/1 [==============================] - 0s 19ms/step\n",
            "1/1 [==============================] - 0s 24ms/step\n",
            "1/1 [==============================] - 0s 21ms/step\n",
            "1/1 [==============================] - 0s 23ms/step\n",
            "1/1 [==============================] - 0s 20ms/step\n",
            "1/1 [==============================] - 0s 19ms/step\n",
            "1/1 [==============================] - 0s 20ms/step\n",
            "1/1 [==============================] - 0s 19ms/step\n",
            "1/1 [==============================] - 0s 21ms/step\n",
            "1/1 [==============================] - 0s 18ms/step\n",
            "1/1 [==============================] - 0s 20ms/step\n",
            "1/1 [==============================] - 0s 20ms/step\n",
            "1/1 [==============================] - 0s 21ms/step\n",
            "1/1 [==============================] - 0s 20ms/step\n",
            "1/1 [==============================] - 0s 21ms/step\n",
            "1/1 [==============================] - 0s 21ms/step\n",
            "1/1 [==============================] - 0s 22ms/step\n",
            "1/1 [==============================] - 0s 20ms/step\n",
            "1/1 [==============================] - 0s 29ms/step\n",
            "1/1 [==============================] - 0s 26ms/step\n",
            "1/1 [==============================] - 0s 30ms/step\n",
            "1/1 [==============================] - 0s 40ms/step\n",
            "1/1 [==============================] - 0s 26ms/step\n",
            "1/1 [==============================] - 0s 42ms/step\n",
            "1/1 [==============================] - 0s 38ms/step\n",
            "1/1 [==============================] - 0s 30ms/step\n",
            "1/1 [==============================] - 0s 29ms/step\n",
            "1/1 [==============================] - 0s 29ms/step\n",
            "1/1 [==============================] - 0s 31ms/step\n",
            "1/1 [==============================] - 0s 26ms/step\n",
            "1/1 [==============================] - 0s 31ms/step\n",
            "1/1 [==============================] - 0s 22ms/step\n",
            "1/1 [==============================] - 0s 23ms/step\n",
            "1/1 [==============================] - 0s 19ms/step\n",
            "1/1 [==============================] - 0s 18ms/step\n",
            "1/1 [==============================] - 0s 21ms/step\n",
            "1/1 [==============================] - 0s 22ms/step\n",
            "1/1 [==============================] - 0s 20ms/step\n",
            "1/1 [==============================] - 0s 27ms/step\n",
            "1/1 [==============================] - 0s 21ms/step\n",
            "1/1 [==============================] - 0s 19ms/step\n",
            "1/1 [==============================] - 0s 20ms/step\n",
            "1/1 [==============================] - 0s 19ms/step\n",
            "1/1 [==============================] - 0s 18ms/step\n",
            "1/1 [==============================] - 0s 21ms/step\n",
            "1/1 [==============================] - 0s 24ms/step\n",
            "1/1 [==============================] - 0s 21ms/step\n",
            "1/1 [==============================] - 0s 20ms/step\n",
            "1/1 [==============================] - 0s 20ms/step\n",
            "1/1 [==============================] - 0s 23ms/step\n",
            "1/1 [==============================] - 0s 22ms/step\n",
            "1/1 [==============================] - 0s 20ms/step\n",
            "1/1 [==============================] - 0s 26ms/step\n",
            "1/1 [==============================] - 0s 20ms/step\n",
            "1/1 [==============================] - 0s 20ms/step\n",
            "1/1 [==============================] - 0s 23ms/step\n",
            "1/1 [==============================] - 0s 21ms/step\n",
            "1/1 [==============================] - 0s 20ms/step\n",
            "1/1 [==============================] - 0s 20ms/step\n",
            "1/1 [==============================] - 0s 21ms/step\n",
            "1/1 [==============================] - 0s 21ms/step\n",
            "1/1 [==============================] - 0s 22ms/step\n",
            "1/1 [==============================] - 0s 23ms/step\n",
            "1/1 [==============================] - 0s 22ms/step\n",
            "1/1 [==============================] - 0s 24ms/step\n",
            "1/1 [==============================] - 0s 19ms/step\n",
            "1/1 [==============================] - 0s 21ms/step\n",
            "1/1 [==============================] - 0s 27ms/step\n",
            "1/1 [==============================] - 0s 20ms/step\n",
            "1/1 [==============================] - 0s 21ms/step\n",
            "1/1 [==============================] - 0s 22ms/step\n",
            "1/1 [==============================] - 0s 19ms/step\n",
            "1/1 [==============================] - 0s 24ms/step\n",
            "1/1 [==============================] - 0s 19ms/step\n",
            "1/1 [==============================] - 0s 22ms/step\n",
            "1/1 [==============================] - 0s 20ms/step\n",
            "1/1 [==============================] - 0s 20ms/step\n",
            "1/1 [==============================] - 0s 21ms/step\n",
            "1/1 [==============================] - 0s 27ms/step\n",
            "1/1 [==============================] - 0s 20ms/step\n",
            "1/1 [==============================] - 0s 22ms/step\n",
            "1/1 [==============================] - 0s 19ms/step\n",
            "1/1 [==============================] - 0s 19ms/step\n",
            "1/1 [==============================] - 0s 21ms/step\n",
            "1/1 [==============================] - 0s 25ms/step\n",
            "1/1 [==============================] - 0s 21ms/step\n",
            "1/1 [==============================] - 0s 17ms/step\n",
            "1/1 [==============================] - 0s 21ms/step\n",
            "1/1 [==============================] - 0s 21ms/step\n",
            "1/1 [==============================] - 0s 23ms/step\n",
            "1/1 [==============================] - 0s 23ms/step\n",
            "1/1 [==============================] - 0s 24ms/step\n",
            "1/1 [==============================] - 0s 23ms/step\n",
            "1/1 [==============================] - 0s 26ms/step\n",
            "1/1 [==============================] - 0s 22ms/step\n",
            "1/1 [==============================] - 0s 22ms/step\n",
            "1/1 [==============================] - 0s 28ms/step\n",
            "1/1 [==============================] - 0s 21ms/step\n",
            "1/1 [==============================] - 0s 23ms/step\n",
            "1/1 [==============================] - 0s 21ms/step\n",
            "1/1 [==============================] - 0s 24ms/step\n",
            "1/1 [==============================] - 0s 20ms/step\n",
            "1/1 [==============================] - 0s 21ms/step\n",
            "1/1 [==============================] - 0s 23ms/step\n",
            "1/1 [==============================] - 0s 20ms/step\n",
            "1/1 [==============================] - 0s 20ms/step\n",
            "1/1 [==============================] - 0s 21ms/step\n",
            "1/1 [==============================] - 0s 21ms/step\n",
            "1/1 [==============================] - 0s 20ms/step\n",
            "1/1 [==============================] - 0s 22ms/step\n",
            "1/1 [==============================] - 0s 21ms/step\n",
            "1/1 [==============================] - 0s 21ms/step\n",
            "1/1 [==============================] - 0s 24ms/step\n",
            "1/1 [==============================] - 0s 24ms/step\n",
            "1/1 [==============================] - 0s 22ms/step\n",
            "1/1 [==============================] - 0s 22ms/step\n",
            "1/1 [==============================] - 0s 23ms/step\n",
            "1/1 [==============================] - 0s 22ms/step\n",
            "1/1 [==============================] - 0s 27ms/step\n",
            "1/1 [==============================] - 0s 23ms/step\n",
            "1/1 [==============================] - 0s 20ms/step\n",
            "1/1 [==============================] - 0s 19ms/step\n",
            "1/1 [==============================] - 0s 19ms/step\n",
            "1/1 [==============================] - 0s 20ms/step\n",
            "1/1 [==============================] - 0s 19ms/step\n",
            "1/1 [==============================] - 0s 30ms/step\n",
            "1/1 [==============================] - 0s 26ms/step\n",
            "1/1 [==============================] - 0s 30ms/step\n",
            "1/1 [==============================] - 0s 27ms/step\n",
            "1/1 [==============================] - 0s 27ms/step\n",
            "1/1 [==============================] - 0s 39ms/step\n",
            "1/1 [==============================] - 0s 29ms/step\n",
            "1/1 [==============================] - 0s 21ms/step\n",
            "1/1 [==============================] - 0s 27ms/step\n",
            "1/1 [==============================] - 0s 31ms/step\n",
            "1/1 [==============================] - 0s 34ms/step\n",
            "1/1 [==============================] - 0s 32ms/step\n",
            "1/1 [==============================] - 0s 31ms/step\n",
            "1/1 [==============================] - 0s 32ms/step\n",
            "1/1 [==============================] - 0s 21ms/step\n",
            "1/1 [==============================] - 0s 21ms/step\n",
            "1/1 [==============================] - 0s 21ms/step\n",
            "1/1 [==============================] - 0s 20ms/step\n",
            "1/1 [==============================] - 0s 23ms/step\n",
            "1/1 [==============================] - 0s 21ms/step\n",
            "1/1 [==============================] - 0s 21ms/step\n",
            "1/1 [==============================] - 0s 19ms/step\n",
            "1/1 [==============================] - 0s 23ms/step\n",
            "1/1 [==============================] - 0s 21ms/step\n",
            "1/1 [==============================] - 0s 19ms/step\n",
            "1/1 [==============================] - 0s 19ms/step\n",
            "1/1 [==============================] - 0s 21ms/step\n",
            "1/1 [==============================] - 0s 20ms/step\n",
            "1/1 [==============================] - 0s 20ms/step\n",
            "1/1 [==============================] - 0s 26ms/step\n",
            "1/1 [==============================] - 0s 20ms/step\n",
            "1/1 [==============================] - 0s 18ms/step\n",
            "1/1 [==============================] - 0s 18ms/step\n",
            "1/1 [==============================] - 0s 31ms/step\n",
            "1/1 [==============================] - 0s 20ms/step\n",
            "1/1 [==============================] - 0s 21ms/step\n",
            "1/1 [==============================] - 0s 24ms/step\n",
            "1/1 [==============================] - 0s 18ms/step\n",
            "1/1 [==============================] - 0s 19ms/step\n",
            "1/1 [==============================] - 0s 22ms/step\n",
            "1/1 [==============================] - 0s 18ms/step\n",
            "1/1 [==============================] - 0s 25ms/step\n",
            "1/1 [==============================] - 0s 111ms/step\n",
            "1/1 [==============================] - 0s 46ms/step\n",
            "time\n",
            "2 /  127\n",
            "1/1 [==============================] - 0s 23ms/step\n",
            "1/1 [==============================] - 0s 25ms/step\n",
            "1/1 [==============================] - 0s 21ms/step\n",
            "1/1 [==============================] - 0s 19ms/step\n",
            "1/1 [==============================] - 0s 19ms/step\n",
            "1/1 [==============================] - 0s 19ms/step\n",
            "1/1 [==============================] - 0s 24ms/step\n",
            "1/1 [==============================] - 0s 19ms/step\n",
            "1/1 [==============================] - 0s 19ms/step\n",
            "1/1 [==============================] - 0s 20ms/step\n",
            "1/1 [==============================] - 0s 25ms/step\n",
            "1/1 [==============================] - 0s 21ms/step\n",
            "1/1 [==============================] - 0s 22ms/step\n",
            "1/1 [==============================] - 0s 23ms/step\n",
            "1/1 [==============================] - 0s 28ms/step\n",
            "1/1 [==============================] - 0s 21ms/step\n",
            "1/1 [==============================] - 0s 23ms/step\n",
            "1/1 [==============================] - 0s 21ms/step\n",
            "1/1 [==============================] - 0s 24ms/step\n",
            "1/1 [==============================] - 0s 21ms/step\n",
            "1/1 [==============================] - 0s 21ms/step\n",
            "1/1 [==============================] - 0s 19ms/step\n",
            "1/1 [==============================] - 0s 24ms/step\n",
            "1/1 [==============================] - 0s 19ms/step\n",
            "1/1 [==============================] - 0s 22ms/step\n",
            "1/1 [==============================] - 0s 21ms/step\n",
            "1/1 [==============================] - 0s 21ms/step\n",
            "1/1 [==============================] - 0s 21ms/step\n",
            "1/1 [==============================] - 0s 22ms/step\n",
            "1/1 [==============================] - 0s 22ms/step\n",
            "1/1 [==============================] - 0s 22ms/step\n",
            "1/1 [==============================] - 0s 20ms/step\n",
            "1/1 [==============================] - 0s 18ms/step\n",
            "1/1 [==============================] - 0s 21ms/step\n",
            "1/1 [==============================] - 0s 20ms/step\n",
            "1/1 [==============================] - 0s 24ms/step\n",
            "1/1 [==============================] - 0s 22ms/step\n",
            "1/1 [==============================] - 0s 20ms/step\n",
            "1/1 [==============================] - 0s 23ms/step\n",
            "1/1 [==============================] - 0s 18ms/step\n",
            "1/1 [==============================] - 0s 19ms/step\n",
            "1/1 [==============================] - 0s 24ms/step\n",
            "1/1 [==============================] - 0s 24ms/step\n",
            "1/1 [==============================] - 0s 18ms/step\n",
            "1/1 [==============================] - 0s 21ms/step\n",
            "1/1 [==============================] - 0s 20ms/step\n",
            "1/1 [==============================] - 0s 19ms/step\n",
            "1/1 [==============================] - 0s 28ms/step\n",
            "1/1 [==============================] - 0s 19ms/step\n",
            "1/1 [==============================] - 0s 20ms/step\n",
            "1/1 [==============================] - 0s 30ms/step\n",
            "1/1 [==============================] - 0s 20ms/step\n",
            "1/1 [==============================] - 0s 29ms/step\n",
            "1/1 [==============================] - 0s 31ms/step\n",
            "1/1 [==============================] - 0s 19ms/step\n",
            "1/1 [==============================] - 0s 27ms/step\n",
            "1/1 [==============================] - 0s 27ms/step\n",
            "1/1 [==============================] - 0s 21ms/step\n",
            "1/1 [==============================] - 0s 24ms/step\n",
            "1/1 [==============================] - 0s 36ms/step\n",
            "1/1 [==============================] - 0s 37ms/step\n",
            "1/1 [==============================] - 0s 33ms/step\n",
            "1/1 [==============================] - 0s 25ms/step\n",
            "1/1 [==============================] - 0s 24ms/step\n",
            "1/1 [==============================] - 0s 31ms/step\n",
            "1/1 [==============================] - 0s 30ms/step\n",
            "1/1 [==============================] - 0s 39ms/step\n",
            "1/1 [==============================] - 0s 27ms/step\n",
            "1/1 [==============================] - 0s 29ms/step\n",
            "1/1 [==============================] - 0s 27ms/step\n",
            "1/1 [==============================] - 0s 39ms/step\n",
            "1/1 [==============================] - 0s 21ms/step\n",
            "1/1 [==============================] - 0s 18ms/step\n",
            "1/1 [==============================] - 0s 18ms/step\n",
            "1/1 [==============================] - 0s 24ms/step\n",
            "1/1 [==============================] - 0s 22ms/step\n",
            "1/1 [==============================] - 0s 24ms/step\n",
            "1/1 [==============================] - 0s 18ms/step\n",
            "1/1 [==============================] - 0s 22ms/step\n",
            "1/1 [==============================] - 0s 21ms/step\n",
            "1/1 [==============================] - 0s 23ms/step\n",
            "1/1 [==============================] - 0s 21ms/step\n",
            "1/1 [==============================] - 0s 23ms/step\n",
            "1/1 [==============================] - 0s 19ms/step\n",
            "1/1 [==============================] - 0s 23ms/step\n",
            "1/1 [==============================] - 0s 20ms/step\n",
            "1/1 [==============================] - 0s 19ms/step\n",
            "1/1 [==============================] - 0s 21ms/step\n",
            "1/1 [==============================] - 0s 18ms/step\n",
            "1/1 [==============================] - 0s 25ms/step\n",
            "1/1 [==============================] - 0s 20ms/step\n",
            "1/1 [==============================] - 0s 18ms/step\n",
            "1/1 [==============================] - 0s 19ms/step\n",
            "1/1 [==============================] - 0s 19ms/step\n",
            "1/1 [==============================] - 0s 22ms/step\n",
            "1/1 [==============================] - 0s 21ms/step\n",
            "1/1 [==============================] - 0s 19ms/step\n",
            "1/1 [==============================] - 0s 23ms/step\n",
            "1/1 [==============================] - 0s 29ms/step\n",
            "1/1 [==============================] - 0s 25ms/step\n",
            "1/1 [==============================] - 0s 19ms/step\n",
            "1/1 [==============================] - 0s 23ms/step\n",
            "1/1 [==============================] - 0s 19ms/step\n",
            "1/1 [==============================] - 0s 21ms/step\n",
            "1/1 [==============================] - 0s 24ms/step\n",
            "1/1 [==============================] - 0s 24ms/step\n",
            "1/1 [==============================] - 0s 21ms/step\n",
            "1/1 [==============================] - 0s 19ms/step\n",
            "1/1 [==============================] - 0s 21ms/step\n",
            "1/1 [==============================] - 0s 18ms/step\n",
            "1/1 [==============================] - 0s 21ms/step\n",
            "1/1 [==============================] - 0s 23ms/step\n",
            "1/1 [==============================] - 0s 19ms/step\n",
            "1/1 [==============================] - 0s 19ms/step\n",
            "1/1 [==============================] - 0s 22ms/step\n",
            "1/1 [==============================] - 0s 31ms/step\n",
            "1/1 [==============================] - 0s 21ms/step\n",
            "1/1 [==============================] - 0s 22ms/step\n",
            "1/1 [==============================] - 0s 21ms/step\n",
            "1/1 [==============================] - 0s 20ms/step\n",
            "1/1 [==============================] - 0s 22ms/step\n",
            "1/1 [==============================] - 0s 21ms/step\n",
            "1/1 [==============================] - 0s 33ms/step\n",
            "1/1 [==============================] - 0s 37ms/step\n",
            "1/1 [==============================] - 0s 34ms/step\n",
            "1/1 [==============================] - 0s 28ms/step\n",
            "1/1 [==============================] - 0s 31ms/step\n",
            "1/1 [==============================] - 0s 31ms/step\n",
            "1/1 [==============================] - 0s 32ms/step\n",
            "1/1 [==============================] - 0s 30ms/step\n",
            "1/1 [==============================] - 0s 37ms/step\n",
            "1/1 [==============================] - 0s 34ms/step\n",
            "1/1 [==============================] - 0s 36ms/step\n",
            "1/1 [==============================] - 0s 31ms/step\n",
            "1/1 [==============================] - 0s 31ms/step\n",
            "1/1 [==============================] - 0s 30ms/step\n",
            "1/1 [==============================] - 0s 38ms/step\n",
            "1/1 [==============================] - 0s 36ms/step\n",
            "1/1 [==============================] - 0s 36ms/step\n",
            "1/1 [==============================] - 0s 31ms/step\n",
            "1/1 [==============================] - 0s 39ms/step\n",
            "1/1 [==============================] - 0s 36ms/step\n",
            "1/1 [==============================] - 0s 37ms/step\n",
            "1/1 [==============================] - 0s 41ms/step\n",
            "1/1 [==============================] - 0s 37ms/step\n",
            "1/1 [==============================] - 0s 37ms/step\n",
            "1/1 [==============================] - 0s 34ms/step\n",
            "1/1 [==============================] - 0s 32ms/step\n",
            "1/1 [==============================] - 0s 32ms/step\n",
            "1/1 [==============================] - 0s 35ms/step\n",
            "1/1 [==============================] - 0s 30ms/step\n",
            "1/1 [==============================] - 0s 26ms/step\n",
            "1/1 [==============================] - 0s 40ms/step\n",
            "1/1 [==============================] - 0s 33ms/step\n",
            "1/1 [==============================] - 0s 37ms/step\n",
            "1/1 [==============================] - 0s 40ms/step\n",
            "1/1 [==============================] - 0s 40ms/step\n",
            "1/1 [==============================] - 0s 38ms/step\n",
            "1/1 [==============================] - 0s 31ms/step\n",
            "1/1 [==============================] - 0s 36ms/step\n",
            "1/1 [==============================] - 0s 39ms/step\n",
            "1/1 [==============================] - 0s 36ms/step\n",
            "1/1 [==============================] - 0s 28ms/step\n",
            "1/1 [==============================] - 0s 24ms/step\n",
            "1/1 [==============================] - 0s 26ms/step\n",
            "1/1 [==============================] - 0s 24ms/step\n",
            "1/1 [==============================] - 0s 25ms/step\n",
            "1/1 [==============================] - 0s 30ms/step\n",
            "1/1 [==============================] - 0s 22ms/step\n",
            "1/1 [==============================] - 0s 24ms/step\n",
            "1/1 [==============================] - 0s 26ms/step\n",
            "1/1 [==============================] - 0s 26ms/step\n",
            "1/1 [==============================] - 0s 27ms/step\n",
            "1/1 [==============================] - 0s 30ms/step\n",
            "1/1 [==============================] - 0s 25ms/step\n",
            "1/1 [==============================] - 0s 27ms/step\n",
            "1/1 [==============================] - 0s 24ms/step\n",
            "1/1 [==============================] - 0s 25ms/step\n",
            "1/1 [==============================] - 0s 24ms/step\n",
            "1/1 [==============================] - 0s 24ms/step\n",
            "1/1 [==============================] - 0s 25ms/step\n",
            "1/1 [==============================] - 0s 25ms/step\n",
            "1/1 [==============================] - 0s 31ms/step\n",
            "1/1 [==============================] - 0s 25ms/step\n",
            "1/1 [==============================] - 0s 22ms/step\n",
            "1/1 [==============================] - 0s 22ms/step\n",
            "1/1 [==============================] - 0s 23ms/step\n",
            "1/1 [==============================] - 0s 22ms/step\n",
            "1/1 [==============================] - 0s 21ms/step\n",
            "1/1 [==============================] - 0s 25ms/step\n",
            "1/1 [==============================] - 0s 24ms/step\n",
            "1/1 [==============================] - 0s 27ms/step\n",
            "1/1 [==============================] - 0s 23ms/step\n",
            "1/1 [==============================] - 0s 23ms/step\n",
            "1/1 [==============================] - 0s 23ms/step\n",
            "1/1 [==============================] - 0s 24ms/step\n",
            "1/1 [==============================] - 0s 22ms/step\n",
            "1/1 [==============================] - 0s 26ms/step\n",
            "1/1 [==============================] - 0s 26ms/step\n",
            "1/1 [==============================] - 0s 22ms/step\n",
            "1/1 [==============================] - 0s 23ms/step\n",
            "1/1 [==============================] - 0s 21ms/step\n",
            "1/1 [==============================] - 0s 25ms/step\n",
            "1/1 [==============================] - 0s 25ms/step\n",
            "1/1 [==============================] - 0s 22ms/step\n",
            "1/1 [==============================] - 0s 22ms/step\n",
            "1/1 [==============================] - 0s 20ms/step\n",
            "1/1 [==============================] - 0s 25ms/step\n",
            "1/1 [==============================] - 0s 22ms/step\n",
            "1/1 [==============================] - 0s 20ms/step\n",
            "1/1 [==============================] - 0s 22ms/step\n",
            "1/1 [==============================] - 0s 20ms/step\n",
            "1/1 [==============================] - 0s 20ms/step\n",
            "1/1 [==============================] - 0s 32ms/step\n",
            "1/1 [==============================] - 0s 21ms/step\n",
            "1/1 [==============================] - 0s 24ms/step\n",
            "1/1 [==============================] - 0s 20ms/step\n",
            "1/1 [==============================] - 0s 22ms/step\n",
            "1/1 [==============================] - 0s 22ms/step\n",
            "1/1 [==============================] - 0s 24ms/step\n",
            "1/1 [==============================] - 0s 23ms/step\n",
            "1/1 [==============================] - 0s 21ms/step\n",
            "1/1 [==============================] - 0s 21ms/step\n",
            "1/1 [==============================] - 0s 19ms/step\n",
            "1/1 [==============================] - 0s 24ms/step\n",
            "1/1 [==============================] - 0s 20ms/step\n",
            "1/1 [==============================] - 0s 23ms/step\n",
            "1/1 [==============================] - 0s 21ms/step\n",
            "1/1 [==============================] - 0s 24ms/step\n",
            "1/1 [==============================] - 0s 20ms/step\n",
            "1/1 [==============================] - 0s 21ms/step\n",
            "1/1 [==============================] - 0s 30ms/step\n",
            "1/1 [==============================] - 0s 17ms/step\n",
            "1/1 [==============================] - 0s 19ms/step\n",
            "1/1 [==============================] - 0s 21ms/step\n",
            "1/1 [==============================] - 0s 18ms/step\n",
            "1/1 [==============================] - 0s 19ms/step\n",
            "1/1 [==============================] - 0s 20ms/step\n",
            "1/1 [==============================] - 0s 21ms/step\n",
            "1/1 [==============================] - 0s 19ms/step\n",
            "1/1 [==============================] - 0s 17ms/step\n",
            "1/1 [==============================] - 0s 21ms/step\n",
            "1/1 [==============================] - 0s 23ms/step\n",
            "1/1 [==============================] - 0s 21ms/step\n",
            "1/1 [==============================] - 0s 22ms/step\n",
            "1/1 [==============================] - 0s 19ms/step\n",
            "1/1 [==============================] - 0s 22ms/step\n",
            "1/1 [==============================] - 0s 21ms/step\n",
            "1/1 [==============================] - 0s 26ms/step\n",
            "1/1 [==============================] - 0s 23ms/step\n",
            "1/1 [==============================] - 0s 22ms/step\n",
            "1/1 [==============================] - 0s 19ms/step\n",
            "1/1 [==============================] - 0s 28ms/step\n",
            "time\n",
            "3 /  127\n",
            "1/1 [==============================] - 0s 36ms/step\n",
            "1/1 [==============================] - 0s 30ms/step\n",
            "1/1 [==============================] - 0s 23ms/step\n",
            "1/1 [==============================] - 0s 28ms/step\n",
            "1/1 [==============================] - 0s 29ms/step\n",
            "1/1 [==============================] - 0s 27ms/step\n",
            "1/1 [==============================] - 0s 25ms/step\n",
            "1/1 [==============================] - 0s 28ms/step\n",
            "1/1 [==============================] - 0s 31ms/step\n",
            "1/1 [==============================] - 0s 24ms/step\n",
            "1/1 [==============================] - 0s 33ms/step\n",
            "1/1 [==============================] - 0s 31ms/step\n",
            "1/1 [==============================] - 0s 25ms/step\n",
            "1/1 [==============================] - 0s 20ms/step\n",
            "1/1 [==============================] - 0s 18ms/step\n",
            "1/1 [==============================] - 0s 19ms/step\n",
            "1/1 [==============================] - 0s 18ms/step\n",
            "1/1 [==============================] - 0s 18ms/step\n",
            "1/1 [==============================] - 0s 23ms/step\n",
            "1/1 [==============================] - 0s 19ms/step\n",
            "1/1 [==============================] - 0s 21ms/step\n",
            "1/1 [==============================] - 0s 25ms/step\n",
            "1/1 [==============================] - 0s 20ms/step\n",
            "1/1 [==============================] - 0s 20ms/step\n",
            "1/1 [==============================] - 0s 22ms/step\n",
            "1/1 [==============================] - 0s 20ms/step\n",
            "1/1 [==============================] - 0s 17ms/step\n",
            "1/1 [==============================] - 0s 23ms/step\n",
            "1/1 [==============================] - 0s 18ms/step\n",
            "1/1 [==============================] - 0s 18ms/step\n",
            "1/1 [==============================] - 0s 25ms/step\n",
            "1/1 [==============================] - 0s 22ms/step\n",
            "1/1 [==============================] - 0s 20ms/step\n",
            "1/1 [==============================] - 0s 20ms/step\n",
            "1/1 [==============================] - 0s 21ms/step\n",
            "1/1 [==============================] - 0s 22ms/step\n",
            "1/1 [==============================] - 0s 26ms/step\n",
            "1/1 [==============================] - 0s 19ms/step\n",
            "1/1 [==============================] - 0s 24ms/step\n",
            "1/1 [==============================] - 0s 22ms/step\n",
            "1/1 [==============================] - 0s 22ms/step\n",
            "1/1 [==============================] - 0s 25ms/step\n",
            "1/1 [==============================] - 0s 30ms/step\n",
            "1/1 [==============================] - 0s 29ms/step\n",
            "1/1 [==============================] - 0s 22ms/step\n",
            "1/1 [==============================] - 0s 24ms/step\n",
            "1/1 [==============================] - 0s 22ms/step\n",
            "1/1 [==============================] - 0s 21ms/step\n",
            "1/1 [==============================] - 0s 27ms/step\n",
            "1/1 [==============================] - 0s 21ms/step\n",
            "1/1 [==============================] - 0s 19ms/step\n",
            "1/1 [==============================] - 0s 19ms/step\n",
            "1/1 [==============================] - 0s 20ms/step\n",
            "1/1 [==============================] - 0s 20ms/step\n",
            "1/1 [==============================] - 0s 31ms/step\n",
            "1/1 [==============================] - 0s 18ms/step\n",
            "1/1 [==============================] - 0s 21ms/step\n",
            "1/1 [==============================] - 0s 35ms/step\n",
            "1/1 [==============================] - 0s 21ms/step\n",
            "1/1 [==============================] - 0s 20ms/step\n",
            "1/1 [==============================] - 0s 18ms/step\n",
            "1/1 [==============================] - 0s 19ms/step\n",
            "1/1 [==============================] - 0s 22ms/step\n",
            "1/1 [==============================] - 0s 20ms/step\n",
            "1/1 [==============================] - 0s 22ms/step\n",
            "1/1 [==============================] - 0s 21ms/step\n",
            "1/1 [==============================] - 0s 20ms/step\n",
            "1/1 [==============================] - 0s 18ms/step\n",
            "1/1 [==============================] - 0s 22ms/step\n",
            "1/1 [==============================] - 0s 25ms/step\n",
            "1/1 [==============================] - 0s 31ms/step\n",
            "1/1 [==============================] - 0s 22ms/step\n",
            "1/1 [==============================] - 0s 20ms/step\n",
            "1/1 [==============================] - 0s 19ms/step\n",
            "1/1 [==============================] - 0s 20ms/step\n",
            "1/1 [==============================] - 0s 19ms/step\n",
            "1/1 [==============================] - 0s 26ms/step\n",
            "1/1 [==============================] - 0s 19ms/step\n",
            "1/1 [==============================] - 0s 18ms/step\n",
            "1/1 [==============================] - 0s 22ms/step\n",
            "1/1 [==============================] - 0s 21ms/step\n",
            "1/1 [==============================] - 0s 20ms/step\n",
            "1/1 [==============================] - 0s 24ms/step\n",
            "1/1 [==============================] - 0s 25ms/step\n",
            "1/1 [==============================] - 0s 24ms/step\n",
            "1/1 [==============================] - 0s 21ms/step\n",
            "1/1 [==============================] - 0s 23ms/step\n",
            "1/1 [==============================] - 0s 23ms/step\n",
            "1/1 [==============================] - 0s 18ms/step\n",
            "1/1 [==============================] - 0s 19ms/step\n",
            "1/1 [==============================] - 0s 21ms/step\n",
            "1/1 [==============================] - 0s 28ms/step\n",
            "1/1 [==============================] - 0s 26ms/step\n",
            "1/1 [==============================] - 0s 20ms/step\n",
            "1/1 [==============================] - 0s 20ms/step\n",
            "1/1 [==============================] - 0s 22ms/step\n",
            "1/1 [==============================] - 0s 19ms/step\n",
            "1/1 [==============================] - 0s 19ms/step\n",
            "1/1 [==============================] - 0s 20ms/step\n",
            "1/1 [==============================] - 0s 21ms/step\n",
            "1/1 [==============================] - 0s 23ms/step\n",
            "1/1 [==============================] - 0s 23ms/step\n",
            "1/1 [==============================] - 0s 24ms/step\n",
            "1/1 [==============================] - 0s 22ms/step\n",
            "1/1 [==============================] - 0s 22ms/step\n",
            "1/1 [==============================] - 0s 22ms/step\n",
            "1/1 [==============================] - 0s 30ms/step\n",
            "1/1 [==============================] - 0s 32ms/step\n",
            "1/1 [==============================] - 0s 27ms/step\n",
            "1/1 [==============================] - 0s 26ms/step\n",
            "1/1 [==============================] - 0s 32ms/step\n",
            "1/1 [==============================] - 0s 31ms/step\n",
            "1/1 [==============================] - 0s 59ms/step\n",
            "1/1 [==============================] - 0s 84ms/step\n",
            "1/1 [==============================] - 0s 30ms/step\n",
            "1/1 [==============================] - 0s 33ms/step\n",
            "1/1 [==============================] - 0s 27ms/step\n",
            "1/1 [==============================] - 0s 20ms/step\n",
            "1/1 [==============================] - 0s 40ms/step\n",
            "1/1 [==============================] - 0s 21ms/step\n",
            "1/1 [==============================] - 0s 19ms/step\n",
            "1/1 [==============================] - 0s 21ms/step\n",
            "1/1 [==============================] - 0s 21ms/step\n",
            "1/1 [==============================] - 0s 29ms/step\n",
            "1/1 [==============================] - 0s 91ms/step\n",
            "1/1 [==============================] - 0s 21ms/step\n",
            "1/1 [==============================] - 0s 20ms/step\n",
            "1/1 [==============================] - 0s 18ms/step\n",
            "1/1 [==============================] - 0s 23ms/step\n",
            "1/1 [==============================] - 0s 20ms/step\n",
            "1/1 [==============================] - 0s 22ms/step\n",
            "1/1 [==============================] - 0s 22ms/step\n",
            "1/1 [==============================] - 0s 22ms/step\n",
            "1/1 [==============================] - 0s 18ms/step\n",
            "1/1 [==============================] - 0s 20ms/step\n",
            "1/1 [==============================] - 0s 20ms/step\n",
            "1/1 [==============================] - 0s 20ms/step\n",
            "1/1 [==============================] - 0s 21ms/step\n",
            "1/1 [==============================] - 0s 26ms/step\n",
            "1/1 [==============================] - 0s 23ms/step\n",
            "1/1 [==============================] - 0s 24ms/step\n",
            "1/1 [==============================] - 0s 22ms/step\n",
            "1/1 [==============================] - 0s 21ms/step\n",
            "1/1 [==============================] - 0s 23ms/step\n",
            "1/1 [==============================] - 0s 21ms/step\n",
            "1/1 [==============================] - 0s 20ms/step\n",
            "1/1 [==============================] - 0s 20ms/step\n",
            "1/1 [==============================] - 0s 21ms/step\n",
            "1/1 [==============================] - 0s 20ms/step\n",
            "1/1 [==============================] - 0s 20ms/step\n",
            "1/1 [==============================] - 0s 21ms/step\n",
            "1/1 [==============================] - 0s 23ms/step\n",
            "1/1 [==============================] - 0s 21ms/step\n",
            "1/1 [==============================] - 0s 25ms/step\n",
            "1/1 [==============================] - 0s 22ms/step\n",
            "1/1 [==============================] - 0s 20ms/step\n",
            "1/1 [==============================] - 0s 20ms/step\n",
            "1/1 [==============================] - 0s 18ms/step\n",
            "1/1 [==============================] - 0s 19ms/step\n",
            "1/1 [==============================] - 0s 18ms/step\n",
            "1/1 [==============================] - 0s 18ms/step\n",
            "1/1 [==============================] - 0s 21ms/step\n",
            "1/1 [==============================] - 0s 22ms/step\n",
            "1/1 [==============================] - 0s 18ms/step\n",
            "1/1 [==============================] - 0s 21ms/step\n",
            "1/1 [==============================] - 0s 18ms/step\n",
            "1/1 [==============================] - 0s 20ms/step\n",
            "1/1 [==============================] - 0s 20ms/step\n",
            "1/1 [==============================] - 0s 23ms/step\n",
            "1/1 [==============================] - 0s 20ms/step\n",
            "1/1 [==============================] - 0s 22ms/step\n",
            "1/1 [==============================] - 0s 21ms/step\n",
            "1/1 [==============================] - 0s 18ms/step\n",
            "1/1 [==============================] - 0s 25ms/step\n",
            "1/1 [==============================] - 0s 21ms/step\n",
            "1/1 [==============================] - 0s 24ms/step\n",
            "1/1 [==============================] - 0s 24ms/step\n",
            "1/1 [==============================] - 0s 21ms/step\n",
            "1/1 [==============================] - 0s 23ms/step\n",
            "1/1 [==============================] - 0s 25ms/step\n",
            "1/1 [==============================] - 0s 20ms/step\n",
            "1/1 [==============================] - 0s 23ms/step\n",
            "1/1 [==============================] - 0s 26ms/step\n",
            "1/1 [==============================] - 0s 23ms/step\n",
            "1/1 [==============================] - 0s 19ms/step\n",
            "1/1 [==============================] - 0s 23ms/step\n",
            "1/1 [==============================] - 0s 20ms/step\n",
            "1/1 [==============================] - 0s 18ms/step\n",
            "1/1 [==============================] - 0s 20ms/step\n",
            "1/1 [==============================] - 0s 20ms/step\n",
            "1/1 [==============================] - 0s 18ms/step\n",
            "1/1 [==============================] - 0s 20ms/step\n",
            "1/1 [==============================] - 0s 23ms/step\n",
            "1/1 [==============================] - 0s 21ms/step\n",
            "1/1 [==============================] - 0s 21ms/step\n",
            "1/1 [==============================] - 0s 21ms/step\n",
            "1/1 [==============================] - 0s 19ms/step\n",
            "1/1 [==============================] - 0s 19ms/step\n",
            "1/1 [==============================] - 0s 25ms/step\n",
            "1/1 [==============================] - 0s 22ms/step\n",
            "1/1 [==============================] - 0s 21ms/step\n",
            "1/1 [==============================] - 0s 21ms/step\n",
            "1/1 [==============================] - 0s 25ms/step\n",
            "1/1 [==============================] - 0s 22ms/step\n",
            "1/1 [==============================] - 0s 20ms/step\n",
            "1/1 [==============================] - 0s 28ms/step\n",
            "1/1 [==============================] - 0s 21ms/step\n",
            "1/1 [==============================] - 0s 23ms/step\n",
            "1/1 [==============================] - 0s 31ms/step\n",
            "1/1 [==============================] - 0s 31ms/step\n",
            "1/1 [==============================] - 0s 29ms/step\n",
            "1/1 [==============================] - 0s 26ms/step\n",
            "1/1 [==============================] - 0s 27ms/step\n",
            "1/1 [==============================] - 0s 28ms/step\n",
            "1/1 [==============================] - 0s 26ms/step\n",
            "1/1 [==============================] - 0s 25ms/step\n",
            "1/1 [==============================] - 0s 25ms/step\n",
            "1/1 [==============================] - 0s 41ms/step\n",
            "1/1 [==============================] - 0s 30ms/step\n",
            "1/1 [==============================] - 0s 31ms/step\n",
            "1/1 [==============================] - 0s 28ms/step\n",
            "1/1 [==============================] - 0s 18ms/step\n",
            "1/1 [==============================] - 0s 19ms/step\n",
            "1/1 [==============================] - 0s 23ms/step\n",
            "1/1 [==============================] - 0s 22ms/step\n",
            "1/1 [==============================] - 0s 23ms/step\n",
            "1/1 [==============================] - 0s 24ms/step\n",
            "1/1 [==============================] - 0s 22ms/step\n",
            "1/1 [==============================] - 0s 20ms/step\n",
            "1/1 [==============================] - 0s 30ms/step\n",
            "1/1 [==============================] - 0s 18ms/step\n",
            "1/1 [==============================] - 0s 20ms/step\n",
            "1/1 [==============================] - 0s 22ms/step\n",
            "1/1 [==============================] - 0s 18ms/step\n",
            "1/1 [==============================] - 0s 21ms/step\n",
            "1/1 [==============================] - 0s 18ms/step\n",
            "1/1 [==============================] - 0s 22ms/step\n",
            "1/1 [==============================] - 0s 21ms/step\n",
            "1/1 [==============================] - 0s 21ms/step\n",
            "1/1 [==============================] - 0s 23ms/step\n",
            "1/1 [==============================] - 0s 19ms/step\n",
            "1/1 [==============================] - 0s 18ms/step\n",
            "1/1 [==============================] - 0s 21ms/step\n",
            "1/1 [==============================] - 0s 22ms/step\n",
            "1/1 [==============================] - 0s 19ms/step\n",
            "1/1 [==============================] - 0s 22ms/step\n",
            "1/1 [==============================] - 0s 20ms/step\n",
            "1/1 [==============================] - 0s 20ms/step\n",
            "1/1 [==============================] - 0s 20ms/step\n",
            "1/1 [==============================] - 0s 23ms/step\n",
            "1/1 [==============================] - 0s 20ms/step\n",
            "1/1 [==============================] - 0s 20ms/step\n",
            "1/1 [==============================] - 0s 20ms/step\n",
            "time\n",
            "4 /  127\n",
            "1/1 [==============================] - 0s 33ms/step\n",
            "1/1 [==============================] - 0s 25ms/step\n",
            "1/1 [==============================] - 0s 20ms/step\n",
            "1/1 [==============================] - 0s 20ms/step\n",
            "1/1 [==============================] - 0s 22ms/step\n",
            "1/1 [==============================] - 0s 20ms/step\n",
            "1/1 [==============================] - 0s 20ms/step\n",
            "1/1 [==============================] - 0s 21ms/step\n",
            "1/1 [==============================] - 0s 21ms/step\n",
            "1/1 [==============================] - 0s 18ms/step\n",
            "1/1 [==============================] - 0s 21ms/step\n",
            "1/1 [==============================] - 0s 22ms/step\n",
            "1/1 [==============================] - 0s 22ms/step\n",
            "1/1 [==============================] - 0s 19ms/step\n",
            "1/1 [==============================] - 0s 17ms/step\n",
            "1/1 [==============================] - 0s 19ms/step\n",
            "1/1 [==============================] - 0s 21ms/step\n",
            "1/1 [==============================] - 0s 22ms/step\n",
            "1/1 [==============================] - 0s 25ms/step\n",
            "1/1 [==============================] - 0s 23ms/step\n",
            "1/1 [==============================] - 0s 24ms/step\n",
            "1/1 [==============================] - 0s 22ms/step\n",
            "1/1 [==============================] - 0s 22ms/step\n",
            "1/1 [==============================] - 0s 20ms/step\n",
            "1/1 [==============================] - 0s 21ms/step\n",
            "1/1 [==============================] - 0s 20ms/step\n",
            "1/1 [==============================] - 0s 20ms/step\n",
            "1/1 [==============================] - 0s 19ms/step\n",
            "1/1 [==============================] - 0s 21ms/step\n",
            "1/1 [==============================] - 0s 20ms/step\n",
            "1/1 [==============================] - 0s 27ms/step\n",
            "1/1 [==============================] - 0s 23ms/step\n",
            "1/1 [==============================] - 0s 21ms/step\n",
            "1/1 [==============================] - 0s 21ms/step\n",
            "1/1 [==============================] - 0s 21ms/step\n",
            "1/1 [==============================] - 0s 21ms/step\n",
            "1/1 [==============================] - 0s 20ms/step\n",
            "1/1 [==============================] - 0s 19ms/step\n",
            "1/1 [==============================] - 0s 22ms/step\n",
            "1/1 [==============================] - 0s 18ms/step\n",
            "1/1 [==============================] - 0s 18ms/step\n",
            "1/1 [==============================] - 0s 19ms/step\n",
            "1/1 [==============================] - 0s 23ms/step\n",
            "1/1 [==============================] - 0s 19ms/step\n",
            "1/1 [==============================] - 0s 19ms/step\n",
            "1/1 [==============================] - 0s 20ms/step\n",
            "1/1 [==============================] - 0s 17ms/step\n",
            "1/1 [==============================] - 0s 17ms/step\n",
            "1/1 [==============================] - 0s 21ms/step\n",
            "1/1 [==============================] - 0s 19ms/step\n",
            "1/1 [==============================] - 0s 19ms/step\n",
            "1/1 [==============================] - 0s 21ms/step\n",
            "1/1 [==============================] - 0s 20ms/step\n",
            "1/1 [==============================] - 0s 21ms/step\n",
            "1/1 [==============================] - 0s 23ms/step\n",
            "1/1 [==============================] - 0s 19ms/step\n",
            "1/1 [==============================] - 0s 22ms/step\n",
            "1/1 [==============================] - 0s 19ms/step\n",
            "1/1 [==============================] - 0s 21ms/step\n",
            "1/1 [==============================] - 0s 28ms/step\n",
            "1/1 [==============================] - 0s 18ms/step\n",
            "1/1 [==============================] - 0s 18ms/step\n",
            "1/1 [==============================] - 0s 42ms/step\n",
            "1/1 [==============================] - 0s 31ms/step\n",
            "1/1 [==============================] - 0s 29ms/step\n",
            "1/1 [==============================] - 0s 25ms/step\n",
            "1/1 [==============================] - 0s 36ms/step\n",
            "1/1 [==============================] - 0s 27ms/step\n",
            "1/1 [==============================] - 0s 26ms/step\n",
            "1/1 [==============================] - 0s 22ms/step\n",
            "1/1 [==============================] - 0s 27ms/step\n",
            "1/1 [==============================] - 0s 26ms/step\n",
            "1/1 [==============================] - 0s 33ms/step\n",
            "1/1 [==============================] - 0s 29ms/step\n",
            "1/1 [==============================] - 0s 31ms/step\n",
            "1/1 [==============================] - 0s 20ms/step\n",
            "1/1 [==============================] - 0s 20ms/step\n",
            "1/1 [==============================] - 0s 20ms/step\n",
            "1/1 [==============================] - 0s 18ms/step\n",
            "1/1 [==============================] - 0s 26ms/step\n",
            "1/1 [==============================] - 0s 26ms/step\n",
            "1/1 [==============================] - 0s 23ms/step\n",
            "1/1 [==============================] - 0s 25ms/step\n",
            "1/1 [==============================] - 0s 24ms/step\n",
            "1/1 [==============================] - 0s 18ms/step\n",
            "1/1 [==============================] - 0s 23ms/step\n",
            "1/1 [==============================] - 0s 19ms/step\n",
            "1/1 [==============================] - 0s 18ms/step\n",
            "1/1 [==============================] - 0s 21ms/step\n",
            "1/1 [==============================] - 0s 28ms/step\n",
            "1/1 [==============================] - 0s 20ms/step\n",
            "1/1 [==============================] - 0s 19ms/step\n",
            "1/1 [==============================] - 0s 23ms/step\n",
            "1/1 [==============================] - 0s 18ms/step\n",
            "1/1 [==============================] - 0s 18ms/step\n",
            "1/1 [==============================] - 0s 18ms/step\n",
            "1/1 [==============================] - 0s 19ms/step\n",
            "1/1 [==============================] - 0s 20ms/step\n",
            "1/1 [==============================] - 0s 19ms/step\n",
            "1/1 [==============================] - 0s 21ms/step\n",
            "1/1 [==============================] - 0s 23ms/step\n",
            "1/1 [==============================] - 0s 26ms/step\n",
            "1/1 [==============================] - 0s 24ms/step\n",
            "1/1 [==============================] - 0s 23ms/step\n",
            "1/1 [==============================] - 0s 21ms/step\n",
            "1/1 [==============================] - 0s 26ms/step\n",
            "1/1 [==============================] - 0s 23ms/step\n",
            "1/1 [==============================] - 0s 23ms/step\n",
            "1/1 [==============================] - 0s 20ms/step\n",
            "1/1 [==============================] - 0s 24ms/step\n",
            "1/1 [==============================] - 0s 22ms/step\n",
            "1/1 [==============================] - 0s 20ms/step\n",
            "1/1 [==============================] - 0s 20ms/step\n",
            "1/1 [==============================] - 0s 20ms/step\n",
            "1/1 [==============================] - 0s 18ms/step\n",
            "1/1 [==============================] - 0s 20ms/step\n",
            "1/1 [==============================] - 0s 23ms/step\n",
            "1/1 [==============================] - 0s 31ms/step\n",
            "1/1 [==============================] - 0s 39ms/step\n",
            "1/1 [==============================] - 0s 33ms/step\n",
            "1/1 [==============================] - 0s 30ms/step\n",
            "1/1 [==============================] - 0s 29ms/step\n",
            "1/1 [==============================] - 0s 33ms/step\n",
            "1/1 [==============================] - 0s 29ms/step\n",
            "1/1 [==============================] - 0s 36ms/step\n",
            "1/1 [==============================] - 0s 33ms/step\n",
            "1/1 [==============================] - 0s 36ms/step\n",
            "1/1 [==============================] - 0s 41ms/step\n",
            "1/1 [==============================] - 0s 40ms/step\n",
            "1/1 [==============================] - 0s 39ms/step\n",
            "1/1 [==============================] - 0s 34ms/step\n",
            "1/1 [==============================] - 0s 27ms/step\n",
            "1/1 [==============================] - 0s 38ms/step\n",
            "1/1 [==============================] - 0s 36ms/step\n",
            "1/1 [==============================] - 0s 41ms/step\n",
            "1/1 [==============================] - 0s 40ms/step\n",
            "1/1 [==============================] - 0s 35ms/step\n",
            "1/1 [==============================] - 0s 31ms/step\n",
            "1/1 [==============================] - 0s 36ms/step\n",
            "1/1 [==============================] - 0s 43ms/step\n",
            "1/1 [==============================] - 0s 34ms/step\n",
            "1/1 [==============================] - 0s 27ms/step\n",
            "1/1 [==============================] - 0s 29ms/step\n",
            "1/1 [==============================] - 0s 36ms/step\n",
            "1/1 [==============================] - 0s 25ms/step\n",
            "1/1 [==============================] - 0s 25ms/step\n"
          ]
        },
        {
          "output_type": "error",
          "ename": "KeyboardInterrupt",
          "evalue": "ignored",
          "traceback": [
            "\u001b[0;31m---------------------------------------------------------------------------\u001b[0m",
            "\u001b[0;31mKeyboardInterrupt\u001b[0m                         Traceback (most recent call last)",
            "\u001b[0;32m<ipython-input-71-0701ee1deb57>\u001b[0m in \u001b[0;36m<module>\u001b[0;34m\u001b[0m\n\u001b[1;32m     41\u001b[0m             \u001b[0mplot_behavior\u001b[0m\u001b[0;34m(\u001b[0m\u001b[0mdata\u001b[0m\u001b[0;34m,\u001b[0m\u001b[0mstates_buy\u001b[0m\u001b[0;34m,\u001b[0m \u001b[0mstates_sell\u001b[0m\u001b[0;34m,\u001b[0m \u001b[0mtotal_profit\u001b[0m\u001b[0;34m)\u001b[0m\u001b[0;34m\u001b[0m\u001b[0;34m\u001b[0m\u001b[0m\n\u001b[1;32m     42\u001b[0m         \u001b[0;32mif\u001b[0m \u001b[0mlen\u001b[0m\u001b[0;34m(\u001b[0m\u001b[0magent\u001b[0m\u001b[0;34m.\u001b[0m\u001b[0mmemory\u001b[0m\u001b[0;34m)\u001b[0m \u001b[0;34m>\u001b[0m \u001b[0mbatch_size\u001b[0m\u001b[0;34m:\u001b[0m\u001b[0;34m\u001b[0m\u001b[0;34m\u001b[0m\u001b[0m\n\u001b[0;32m---> 43\u001b[0;31m             \u001b[0magent\u001b[0m\u001b[0;34m.\u001b[0m\u001b[0mexpReplay\u001b[0m\u001b[0;34m(\u001b[0m\u001b[0mbatch_size\u001b[0m\u001b[0;34m)\u001b[0m\u001b[0;34m\u001b[0m\u001b[0;34m\u001b[0m\u001b[0m\n\u001b[0m\u001b[1;32m     44\u001b[0m \u001b[0;34m\u001b[0m\u001b[0m\n\u001b[1;32m     45\u001b[0m \u001b[0;34m\u001b[0m\u001b[0m\n",
            "\u001b[0;32m<ipython-input-67-ed436324a8da>\u001b[0m in \u001b[0;36mexpReplay\u001b[0;34m(self, batch_size)\u001b[0m\n\u001b[1;32m     38\u001b[0m             \u001b[0;32mif\u001b[0m \u001b[0;32mnot\u001b[0m \u001b[0mdone\u001b[0m\u001b[0;34m:\u001b[0m\u001b[0;34m\u001b[0m\u001b[0;34m\u001b[0m\u001b[0m\n\u001b[1;32m     39\u001b[0m                 \u001b[0mnext_state\u001b[0m \u001b[0;34m=\u001b[0m \u001b[0mnp\u001b[0m\u001b[0;34m.\u001b[0m\u001b[0mreshape\u001b[0m\u001b[0;34m(\u001b[0m\u001b[0mnext_state\u001b[0m\u001b[0;34m,\u001b[0m \u001b[0;34m(\u001b[0m\u001b[0;36m1\u001b[0m\u001b[0;34m,\u001b[0m \u001b[0mself\u001b[0m\u001b[0;34m.\u001b[0m\u001b[0mstate_size\u001b[0m\u001b[0;34m)\u001b[0m\u001b[0;34m)\u001b[0m\u001b[0;34m\u001b[0m\u001b[0;34m\u001b[0m\u001b[0m\n\u001b[0;32m---> 40\u001b[0;31m                 \u001b[0mQ_next\u001b[0m \u001b[0;34m=\u001b[0m \u001b[0mself\u001b[0m\u001b[0;34m.\u001b[0m\u001b[0mmodel\u001b[0m\u001b[0;34m.\u001b[0m\u001b[0mpredict\u001b[0m\u001b[0;34m(\u001b[0m\u001b[0mnext_state\u001b[0m\u001b[0;34m)\u001b[0m\u001b[0;34m[\u001b[0m\u001b[0;36m0\u001b[0m\u001b[0;34m]\u001b[0m\u001b[0;34m\u001b[0m\u001b[0;34m\u001b[0m\u001b[0m\n\u001b[0m\u001b[1;32m     41\u001b[0m                 \u001b[0mtarget\u001b[0m \u001b[0;34m=\u001b[0m \u001b[0mreward\u001b[0m \u001b[0;34m+\u001b[0m \u001b[0mself\u001b[0m\u001b[0;34m.\u001b[0m\u001b[0mgamma\u001b[0m \u001b[0;34m*\u001b[0m \u001b[0mnp\u001b[0m\u001b[0;34m.\u001b[0m\u001b[0mamax\u001b[0m\u001b[0;34m(\u001b[0m\u001b[0mQ_next\u001b[0m\u001b[0;34m)\u001b[0m\u001b[0;34m\u001b[0m\u001b[0;34m\u001b[0m\u001b[0m\n\u001b[1;32m     42\u001b[0m             \u001b[0mstate\u001b[0m \u001b[0;34m=\u001b[0m \u001b[0mnp\u001b[0m\u001b[0;34m.\u001b[0m\u001b[0mreshape\u001b[0m\u001b[0;34m(\u001b[0m\u001b[0mstate\u001b[0m\u001b[0;34m,\u001b[0m \u001b[0;34m(\u001b[0m\u001b[0;36m1\u001b[0m\u001b[0;34m,\u001b[0m \u001b[0mself\u001b[0m\u001b[0;34m.\u001b[0m\u001b[0mstate_size\u001b[0m\u001b[0;34m)\u001b[0m\u001b[0;34m)\u001b[0m\u001b[0;34m\u001b[0m\u001b[0;34m\u001b[0m\u001b[0m\n",
            "\u001b[0;32m/usr/local/lib/python3.9/dist-packages/keras/utils/traceback_utils.py\u001b[0m in \u001b[0;36merror_handler\u001b[0;34m(*args, **kwargs)\u001b[0m\n\u001b[1;32m     63\u001b[0m         \u001b[0mfiltered_tb\u001b[0m \u001b[0;34m=\u001b[0m \u001b[0;32mNone\u001b[0m\u001b[0;34m\u001b[0m\u001b[0;34m\u001b[0m\u001b[0m\n\u001b[1;32m     64\u001b[0m         \u001b[0;32mtry\u001b[0m\u001b[0;34m:\u001b[0m\u001b[0;34m\u001b[0m\u001b[0;34m\u001b[0m\u001b[0m\n\u001b[0;32m---> 65\u001b[0;31m             \u001b[0;32mreturn\u001b[0m \u001b[0mfn\u001b[0m\u001b[0;34m(\u001b[0m\u001b[0;34m*\u001b[0m\u001b[0margs\u001b[0m\u001b[0;34m,\u001b[0m \u001b[0;34m**\u001b[0m\u001b[0mkwargs\u001b[0m\u001b[0;34m)\u001b[0m\u001b[0;34m\u001b[0m\u001b[0;34m\u001b[0m\u001b[0m\n\u001b[0m\u001b[1;32m     66\u001b[0m         \u001b[0;32mexcept\u001b[0m \u001b[0mException\u001b[0m \u001b[0;32mas\u001b[0m \u001b[0me\u001b[0m\u001b[0;34m:\u001b[0m\u001b[0;34m\u001b[0m\u001b[0;34m\u001b[0m\u001b[0m\n\u001b[1;32m     67\u001b[0m             \u001b[0mfiltered_tb\u001b[0m \u001b[0;34m=\u001b[0m \u001b[0m_process_traceback_frames\u001b[0m\u001b[0;34m(\u001b[0m\u001b[0me\u001b[0m\u001b[0;34m.\u001b[0m\u001b[0m__traceback__\u001b[0m\u001b[0;34m)\u001b[0m\u001b[0;34m\u001b[0m\u001b[0;34m\u001b[0m\u001b[0m\n",
            "\u001b[0;32m/usr/local/lib/python3.9/dist-packages/keras/engine/training.py\u001b[0m in \u001b[0;36mpredict\u001b[0;34m(self, x, batch_size, verbose, steps, callbacks, max_queue_size, workers, use_multiprocessing)\u001b[0m\n\u001b[1;32m   2344\u001b[0m             \u001b[0mcallbacks\u001b[0m\u001b[0;34m.\u001b[0m\u001b[0mon_predict_begin\u001b[0m\u001b[0;34m(\u001b[0m\u001b[0;34m)\u001b[0m\u001b[0;34m\u001b[0m\u001b[0;34m\u001b[0m\u001b[0m\n\u001b[1;32m   2345\u001b[0m             \u001b[0mbatch_outputs\u001b[0m \u001b[0;34m=\u001b[0m \u001b[0;32mNone\u001b[0m\u001b[0;34m\u001b[0m\u001b[0;34m\u001b[0m\u001b[0m\n\u001b[0;32m-> 2346\u001b[0;31m             \u001b[0;32mfor\u001b[0m \u001b[0m_\u001b[0m\u001b[0;34m,\u001b[0m \u001b[0miterator\u001b[0m \u001b[0;32min\u001b[0m \u001b[0mdata_handler\u001b[0m\u001b[0;34m.\u001b[0m\u001b[0menumerate_epochs\u001b[0m\u001b[0;34m(\u001b[0m\u001b[0;34m)\u001b[0m\u001b[0;34m:\u001b[0m  \u001b[0;31m# Single epoch.\u001b[0m\u001b[0;34m\u001b[0m\u001b[0;34m\u001b[0m\u001b[0m\n\u001b[0m\u001b[1;32m   2347\u001b[0m                 \u001b[0;32mwith\u001b[0m \u001b[0mdata_handler\u001b[0m\u001b[0;34m.\u001b[0m\u001b[0mcatch_stop_iteration\u001b[0m\u001b[0;34m(\u001b[0m\u001b[0;34m)\u001b[0m\u001b[0;34m:\u001b[0m\u001b[0;34m\u001b[0m\u001b[0;34m\u001b[0m\u001b[0m\n\u001b[1;32m   2348\u001b[0m                     \u001b[0;32mfor\u001b[0m \u001b[0mstep\u001b[0m \u001b[0;32min\u001b[0m \u001b[0mdata_handler\u001b[0m\u001b[0;34m.\u001b[0m\u001b[0msteps\u001b[0m\u001b[0;34m(\u001b[0m\u001b[0;34m)\u001b[0m\u001b[0;34m:\u001b[0m\u001b[0;34m\u001b[0m\u001b[0;34m\u001b[0m\u001b[0m\n",
            "\u001b[0;32m/usr/local/lib/python3.9/dist-packages/keras/engine/data_adapter.py\u001b[0m in \u001b[0;36menumerate_epochs\u001b[0;34m(self)\u001b[0m\n\u001b[1;32m   1302\u001b[0m         \u001b[0;34m\"\"\"Yields `(epoch, tf.data.Iterator)`.\"\"\"\u001b[0m\u001b[0;34m\u001b[0m\u001b[0;34m\u001b[0m\u001b[0m\n\u001b[1;32m   1303\u001b[0m         \u001b[0;32mwith\u001b[0m \u001b[0mself\u001b[0m\u001b[0;34m.\u001b[0m\u001b[0m_truncate_execution_to_epoch\u001b[0m\u001b[0;34m(\u001b[0m\u001b[0;34m)\u001b[0m\u001b[0;34m:\u001b[0m\u001b[0;34m\u001b[0m\u001b[0;34m\u001b[0m\u001b[0m\n\u001b[0;32m-> 1304\u001b[0;31m             \u001b[0mdata_iterator\u001b[0m \u001b[0;34m=\u001b[0m \u001b[0miter\u001b[0m\u001b[0;34m(\u001b[0m\u001b[0mself\u001b[0m\u001b[0;34m.\u001b[0m\u001b[0m_dataset\u001b[0m\u001b[0;34m)\u001b[0m\u001b[0;34m\u001b[0m\u001b[0;34m\u001b[0m\u001b[0m\n\u001b[0m\u001b[1;32m   1305\u001b[0m             \u001b[0;32mfor\u001b[0m \u001b[0mepoch\u001b[0m \u001b[0;32min\u001b[0m \u001b[0mrange\u001b[0m\u001b[0;34m(\u001b[0m\u001b[0mself\u001b[0m\u001b[0;34m.\u001b[0m\u001b[0m_initial_epoch\u001b[0m\u001b[0;34m,\u001b[0m \u001b[0mself\u001b[0m\u001b[0;34m.\u001b[0m\u001b[0m_epochs\u001b[0m\u001b[0;34m)\u001b[0m\u001b[0;34m:\u001b[0m\u001b[0;34m\u001b[0m\u001b[0;34m\u001b[0m\u001b[0m\n\u001b[1;32m   1306\u001b[0m                 \u001b[0;32mif\u001b[0m \u001b[0mself\u001b[0m\u001b[0;34m.\u001b[0m\u001b[0m_insufficient_data\u001b[0m\u001b[0;34m:\u001b[0m  \u001b[0;31m# Set by `catch_stop_iteration`.\u001b[0m\u001b[0;34m\u001b[0m\u001b[0;34m\u001b[0m\u001b[0m\n",
            "\u001b[0;32m/usr/local/lib/python3.9/dist-packages/tensorflow/python/data/ops/dataset_ops.py\u001b[0m in \u001b[0;36m__iter__\u001b[0;34m(self)\u001b[0m\n\u001b[1;32m    497\u001b[0m     \u001b[0;32mif\u001b[0m \u001b[0mcontext\u001b[0m\u001b[0;34m.\u001b[0m\u001b[0mexecuting_eagerly\u001b[0m\u001b[0;34m(\u001b[0m\u001b[0;34m)\u001b[0m \u001b[0;32mor\u001b[0m \u001b[0mops\u001b[0m\u001b[0;34m.\u001b[0m\u001b[0minside_function\u001b[0m\u001b[0;34m(\u001b[0m\u001b[0;34m)\u001b[0m\u001b[0;34m:\u001b[0m\u001b[0;34m\u001b[0m\u001b[0;34m\u001b[0m\u001b[0m\n\u001b[1;32m    498\u001b[0m       \u001b[0;32mwith\u001b[0m \u001b[0mops\u001b[0m\u001b[0;34m.\u001b[0m\u001b[0mcolocate_with\u001b[0m\u001b[0;34m(\u001b[0m\u001b[0mself\u001b[0m\u001b[0;34m.\u001b[0m\u001b[0m_variant_tensor\u001b[0m\u001b[0;34m)\u001b[0m\u001b[0;34m:\u001b[0m\u001b[0;34m\u001b[0m\u001b[0;34m\u001b[0m\u001b[0m\n\u001b[0;32m--> 499\u001b[0;31m         \u001b[0;32mreturn\u001b[0m \u001b[0miterator_ops\u001b[0m\u001b[0;34m.\u001b[0m\u001b[0mOwnedIterator\u001b[0m\u001b[0;34m(\u001b[0m\u001b[0mself\u001b[0m\u001b[0;34m)\u001b[0m\u001b[0;34m\u001b[0m\u001b[0;34m\u001b[0m\u001b[0m\n\u001b[0m\u001b[1;32m    500\u001b[0m     \u001b[0;32melse\u001b[0m\u001b[0;34m:\u001b[0m\u001b[0;34m\u001b[0m\u001b[0;34m\u001b[0m\u001b[0m\n\u001b[1;32m    501\u001b[0m       raise RuntimeError(\"`tf.data.Dataset` only supports Python-style \"\n",
            "\u001b[0;32m/usr/local/lib/python3.9/dist-packages/tensorflow/python/data/ops/iterator_ops.py\u001b[0m in \u001b[0;36m__init__\u001b[0;34m(self, dataset, components, element_spec)\u001b[0m\n\u001b[1;32m    701\u001b[0m             \u001b[0;34m\"When `dataset` is provided, `element_spec` and `components` must \"\u001b[0m\u001b[0;34m\u001b[0m\u001b[0;34m\u001b[0m\u001b[0m\n\u001b[1;32m    702\u001b[0m             \"not be specified.\")\n\u001b[0;32m--> 703\u001b[0;31m       \u001b[0mself\u001b[0m\u001b[0;34m.\u001b[0m\u001b[0m_create_iterator\u001b[0m\u001b[0;34m(\u001b[0m\u001b[0mdataset\u001b[0m\u001b[0;34m)\u001b[0m\u001b[0;34m\u001b[0m\u001b[0;34m\u001b[0m\u001b[0m\n\u001b[0m\u001b[1;32m    704\u001b[0m \u001b[0;34m\u001b[0m\u001b[0m\n\u001b[1;32m    705\u001b[0m     \u001b[0mself\u001b[0m\u001b[0;34m.\u001b[0m\u001b[0m_get_next_call_count\u001b[0m \u001b[0;34m=\u001b[0m \u001b[0;36m0\u001b[0m\u001b[0;34m\u001b[0m\u001b[0;34m\u001b[0m\u001b[0m\n",
            "\u001b[0;32m/usr/local/lib/python3.9/dist-packages/tensorflow/python/data/ops/iterator_ops.py\u001b[0m in \u001b[0;36m_create_iterator\u001b[0;34m(self, dataset)\u001b[0m\n\u001b[1;32m    740\u001b[0m             self._flat_output_types)\n\u001b[1;32m    741\u001b[0m         \u001b[0mself\u001b[0m\u001b[0;34m.\u001b[0m\u001b[0m_iterator_resource\u001b[0m\u001b[0;34m.\u001b[0m\u001b[0mop\u001b[0m\u001b[0;34m.\u001b[0m\u001b[0mexperimental_set_type\u001b[0m\u001b[0;34m(\u001b[0m\u001b[0mfulltype\u001b[0m\u001b[0;34m)\u001b[0m\u001b[0;34m\u001b[0m\u001b[0;34m\u001b[0m\u001b[0m\n\u001b[0;32m--> 742\u001b[0;31m       \u001b[0mgen_dataset_ops\u001b[0m\u001b[0;34m.\u001b[0m\u001b[0mmake_iterator\u001b[0m\u001b[0;34m(\u001b[0m\u001b[0mds_variant\u001b[0m\u001b[0;34m,\u001b[0m \u001b[0mself\u001b[0m\u001b[0;34m.\u001b[0m\u001b[0m_iterator_resource\u001b[0m\u001b[0;34m)\u001b[0m\u001b[0;34m\u001b[0m\u001b[0;34m\u001b[0m\u001b[0m\n\u001b[0m\u001b[1;32m    743\u001b[0m \u001b[0;34m\u001b[0m\u001b[0m\n\u001b[1;32m    744\u001b[0m   \u001b[0;32mdef\u001b[0m \u001b[0m__iter__\u001b[0m\u001b[0;34m(\u001b[0m\u001b[0mself\u001b[0m\u001b[0;34m)\u001b[0m\u001b[0;34m:\u001b[0m\u001b[0;34m\u001b[0m\u001b[0;34m\u001b[0m\u001b[0m\n",
            "\u001b[0;32m/usr/local/lib/python3.9/dist-packages/tensorflow/python/ops/gen_dataset_ops.py\u001b[0m in \u001b[0;36mmake_iterator\u001b[0;34m(dataset, iterator, name)\u001b[0m\n\u001b[1;32m   3407\u001b[0m   \u001b[0;32mif\u001b[0m \u001b[0mtld\u001b[0m\u001b[0;34m.\u001b[0m\u001b[0mis_eager\u001b[0m\u001b[0;34m:\u001b[0m\u001b[0;34m\u001b[0m\u001b[0;34m\u001b[0m\u001b[0m\n\u001b[1;32m   3408\u001b[0m     \u001b[0;32mtry\u001b[0m\u001b[0;34m:\u001b[0m\u001b[0;34m\u001b[0m\u001b[0;34m\u001b[0m\u001b[0m\n\u001b[0;32m-> 3409\u001b[0;31m       _result = pywrap_tfe.TFE_Py_FastPathExecute(\n\u001b[0m\u001b[1;32m   3410\u001b[0m         _ctx, \"MakeIterator\", name, dataset, iterator)\n\u001b[1;32m   3411\u001b[0m       \u001b[0;32mreturn\u001b[0m \u001b[0m_result\u001b[0m\u001b[0;34m\u001b[0m\u001b[0;34m\u001b[0m\u001b[0m\n",
            "\u001b[0;31mKeyboardInterrupt\u001b[0m: "
          ]
        }
      ]
    },
    {
      "cell_type": "code",
      "source": [
        "# Deep Q-Learning Model\n",
        "print(agent.model.summary())"
      ],
      "metadata": {
        "colab": {
          "base_uri": "https://localhost:8080/"
        },
        "id": "K5GXNhF8Btqi",
        "outputId": "90af73d9-421c-40a2-ae49-230707a066e5"
      },
      "execution_count": 72,
      "outputs": [
        {
          "output_type": "stream",
          "name": "stdout",
          "text": [
            "Model: \"sequential\"\n",
            "_________________________________________________________________\n",
            " Layer (type)                Output Shape              Param #   \n",
            "=================================================================\n",
            " dense (Dense)               (None, 12)                24        \n",
            "                                                                 \n",
            " dense_1 (Dense)             (None, 4)                 52        \n",
            "                                                                 \n",
            " dense_2 (Dense)             (None, 4)                 20        \n",
            "                                                                 \n",
            " dense_3 (Dense)             (None, 3)                 15        \n",
            "                                                                 \n",
            "=================================================================\n",
            "Total params: 111\n",
            "Trainable params: 111\n",
            "Non-trainable params: 0\n",
            "_________________________________________________________________\n",
            "None\n"
          ]
        }
      ]
    },
    {
      "cell_type": "code",
      "source": [
        "#Testing the Data\n",
        "\n",
        "import os\n",
        "\n",
        "#agent is already defined in the training set above.\n",
        "test_data = X_test\n",
        "\n",
        "l_test = len(test_data) - 1\n",
        "state = getState(test_data, 0, window_size + 1)\n",
        "total_profit = 0\n",
        "is_eval = True\n",
        "done = False\n",
        "states_sell_test = []\n",
        "states_buy_test = []\n",
        "#Get the trained model\n",
        "model_name = \"model_ep\"+str(episode_count)\n",
        "#model_name = \"model_ep\"+str(0)\n",
        "\n",
        "# Check if the model file exists before creating the agent object\n",
        "if os.path.isfile(model_name):\n",
        "    agent = Agent(window_size, is_eval, model_name)\n",
        "else:\n",
        "    print(f\"Model file {model_name} not found\")\n",
        "    # Do something else or exit the program\n",
        "    exit()\n",
        "\n",
        "state = getState(data, 0, window_size + 1)\n",
        "total_profit = 0\n",
        "agent.inventory = []\n",
        "\n",
        "for t in range(l_test):\n",
        "    action = agent.act(state)\n",
        "    next_state = getState(test_data, t + 1, window_size + 1)\n",
        "    reward = 0\n",
        "\n",
        "    if action == 1:\n",
        "        agent.inventory.append(test_data[t])\n",
        "        states_buy_test.append(t)\n",
        "        print(\"Buy: \" + formatPrice(test_data[t]))\n",
        "\n",
        "    elif action == 2 and len(agent.inventory) > 0:\n",
        "        bought_price = agent.inventory.pop(0)\n",
        "        reward = max(test_data[t] - bought_price, 0)\n",
        "        total_profit += test_data[t] - bought_price\n",
        "        states_sell_test.append(t)\n",
        "        print(\"Sell: \" + formatPrice(test_data[t]) + \" | profit: \" + formatPrice(test_data[t] - bought_price))\n",
        "\n",
        "    if t == l_test - 1:\n",
        "        done = True\n",
        "    agent.memory.append((state, action, reward, next_state, done))\n",
        "    state = next_state\n",
        "\n",
        "    if done:\n",
        "        print(\"------------------------------------------\")\n",
        "        print(\"Total Profit: \" + formatPrice(total_profit))\n",
        "        print(\"------------------------------------------\")\n",
        "        \n",
        "plot_behavior(test_data,states_buy_test, states_sell_test, total_profit)"
      ],
      "metadata": {
        "colab": {
          "base_uri": "https://localhost:8080/",
          "height": 1000
        },
        "id": "ATHHhLIhBuj1",
        "outputId": "63cc1f99-c04b-4102-b52f-f589caf763ac"
      },
      "execution_count": 73,
      "outputs": [
        {
          "output_type": "stream",
          "name": "stdout",
          "text": [
            "Model file model_ep10 not found\n",
            "Buy: $2901.61\n",
            "Sell: $2885.57 | profit: -$16.04\n",
            "Buy: $2884.43\n",
            "Buy: $2785.68\n",
            "Buy: $2767.13\n",
            "Buy: $2750.79\n",
            "Sell: $2809.92 | profit: -$74.51\n",
            "Buy: $2656.10\n",
            "Buy: $2705.57\n",
            "Sell: $2658.69 | profit: -$126.99\n",
            "Sell: $2711.74 | profit: -$55.39\n",
            "Sell: $2723.06 | profit: -$27.73\n",
            "Sell: $2738.31 | profit: $82.21\n",
            "Buy: $2755.45\n",
            "Buy: $2806.83\n",
            "Sell: $2722.18 | profit: $16.61\n",
            "Sell: $2730.20 | profit: -$25.25\n",
            "Sell: $2690.73 | profit: -$116.10\n",
            "Buy: $2641.89\n",
            "Sell: $2673.45 | profit: $31.56\n",
            "Buy: $2637.72\n",
            "Sell: $2651.07 | profit: $13.35\n",
            "Buy: $2485.74\n",
            "Buy: $2506.85\n",
            "Buy: $2447.89\n",
            "Sell: $2531.94 | profit: $46.20\n",
            "Buy: $2574.41\n",
            "Buy: $2584.96\n",
            "Buy: $2596.64\n",
            "Sell: $2596.26 | profit: $89.41\n",
            "Sell: $2582.61 | profit: $134.72\n",
            "Sell: $2616.10 | profit: $41.69\n",
            "Sell: $2635.96 | profit: $51.00\n",
            "Sell: $2632.90 | profit: $36.26\n",
            "Buy: $2638.70\n",
            "Buy: $2664.76\n",
            "1/1 [==============================] - 0s 37ms/step\n",
            "Sell: $2643.85 | profit: $5.15\n",
            "Buy: $2640.00\n",
            "Sell: $2704.10 | profit: $39.34\n",
            "Buy: $2706.53\n",
            "Sell: $2737.70 | profit: $97.70\n",
            "Buy: $2706.05\n",
            "Buy: $2707.88\n",
            "Sell: $2709.80 | profit: $3.27\n",
            "Buy: $2744.73\n",
            "Buy: $2753.03\n",
            "Sell: $2745.73 | profit: $39.68\n",
            "Sell: $2775.60 | profit: $67.72\n",
            "Buy: $2779.76\n",
            "Buy: $2784.70\n",
            "Sell: $2774.88 | profit: $30.15\n",
            "Buy: $2796.11\n",
            "Buy: $2792.38\n",
            "Buy: $2784.49\n",
            "Sell: $2803.69 | profit: $50.66\n",
            "Buy: $2792.81\n",
            "Buy: $2789.65\n",
            "Buy: $2771.45\n",
            "Buy: $2748.93\n",
            "Buy: $2743.07\n",
            "Sell: $2783.30 | profit: $3.54\n",
            "Sell: $2791.52 | profit: $6.82\n",
            "Sell: $2810.92 | profit: $14.81\n",
            "Sell: $2808.48 | profit: $16.10\n",
            "Sell: $2832.57 | profit: $48.08\n",
            "Sell: $2824.23 | profit: $31.42\n",
            "Sell: $2854.88 | profit: $65.23\n",
            "Sell: $2800.71 | profit: $29.26\n",
            "Sell: $2818.46 | profit: $69.53\n",
            "Sell: $2834.40 | profit: $91.33\n",
            "Buy: $2867.24\n",
            "Sell: $2873.40 | profit: $6.16\n",
            "Buy: $2879.39\n",
            "Buy: $2895.77\n",
            "Sell: $2878.20 | profit: -$1.19\n",
            "Buy: $2888.21\n",
            "Sell: $2888.32 | profit: -$7.45\n",
            "Buy: $2907.06\n",
            "Sell: $2933.68 | profit: $45.47\n",
            "Sell: $2927.25 | profit: $20.19\n",
            "Buy: $2926.17\n",
            "Buy: $2939.88\n",
            "Sell: $2917.52 | profit: -$8.65\n",
            "Sell: $2945.64 | profit: $5.76\n",
            "Buy: $2870.72\n",
            "Sell: $2881.40 | profit: $10.68\n",
            "Buy: $2826.06\n",
            "Sell: $2783.02 | profit: -$43.04\n",
            "Buy: $2843.49\n",
            "Buy: $2873.34\n",
            "1/1 [==============================] - 0s 34ms/step\n",
            "Sell: $2879.84 | profit: $36.35\n",
            "Buy: $2891.64\n",
            "Buy: $2886.98\n",
            "Buy: $2889.67\n",
            "Sell: $2926.46 | profit: $53.12\n",
            "Buy: $2950.46\n",
            "Sell: $2945.35 | profit: $53.71\n",
            "Sell: $2917.38 | profit: $30.40\n",
            "Buy: $2913.78\n",
            "Buy: $2924.92\n",
            "Buy: $2941.76\n",
            "Buy: $2995.82\n",
            "Sell: $2990.41 | profit: $100.74\n",
            "Buy: $2979.63\n",
            "Buy: $2993.07\n",
            "Sell: $2999.91 | profit: $49.45\n",
            "Sell: $3013.77 | profit: $99.99\n",
            "Sell: $3014.30 | profit: $89.38\n",
            "Sell: $3004.04 | profit: $62.28\n",
            "Sell: $2984.42 | profit: -$11.40\n",
            "Buy: $2995.11\n",
            "Buy: $2976.61\n",
            "Buy: $2985.03\n",
            "Sell: $3005.47 | profit: $25.84\n",
            "Buy: $3019.56\n",
            "Sell: $2953.56 | profit: -$39.51\n",
            "Sell: $2844.74 | profit: -$150.37\n",
            "Buy: $2883.98\n",
            "Buy: $2938.09\n",
            "Sell: $2918.65 | profit: -$57.96\n",
            "Sell: $2926.32 | profit: -$58.71\n",
            "Sell: $2840.60 | profit: -$178.96\n",
            "Buy: $2847.60\n",
            "Sell: $2900.51 | profit: $16.53\n",
            "Sell: $2924.43 | profit: -$13.66\n",
            "Buy: $2847.11\n",
            "Buy: $2878.38\n",
            "Buy: $2869.16\n",
            "Buy: $2887.94\n",
            "Sell: $2924.58 | profit: $76.98\n",
            "Sell: $2937.78 | profit: $90.67\n",
            "Buy: $2976.00\n",
            "Sell: $2978.71 | profit: $100.33\n",
            "Buy: $2978.43\n",
            "Sell: $2979.39 | profit: $110.23\n",
            "Buy: $3009.57\n",
            "Sell: $3007.39 | profit: $119.45\n",
            "Sell: $3005.70 | profit: $29.70\n",
            "Sell: $3006.79 | profit: $28.36\n",
            "Buy: $2992.07\n",
            "Sell: $2966.60 | profit: -$42.97\n",
            "Buy: $2984.87\n",
            "Buy: $2977.62\n",
            "Sell: $2961.79 | profit: -$30.28\n",
            "Sell: $2976.74 | profit: -$8.13\n",
            "Sell: $2887.61 | profit: -$90.01\n",
            "Buy: $2952.01\n",
            "Sell: $2938.79 | profit: -$13.22\n",
            "------------------------------------------\n",
            "Total Profit: $1317.05\n",
            "------------------------------------------\n"
          ]
        },
        {
          "output_type": "display_data",
          "data": {
            "text/plain": [
              "<Figure size 1080x360 with 1 Axes>"
            ],
            "image/png": "[encoded data removed]"
          },
          "metadata": {
            "needs_background": "light"
          }
        }
      ]
    }
  ]
}